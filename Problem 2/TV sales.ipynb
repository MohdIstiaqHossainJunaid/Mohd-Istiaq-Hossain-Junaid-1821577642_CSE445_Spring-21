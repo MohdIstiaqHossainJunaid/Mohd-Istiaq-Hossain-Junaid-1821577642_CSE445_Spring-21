{
 "cells": [
  {
   "cell_type": "markdown",
   "id": "75365a76",
   "metadata": {},
   "source": [
    "## TV sales "
   ]
  },
  {
   "cell_type": "code",
   "execution_count": 1,
   "id": "a339df7b",
   "metadata": {},
   "outputs": [],
   "source": [
    "import pandas as pd\n",
    "import numpy as np\n",
    "import  matplotlib.pyplot as plt\n",
    "import  seaborn as sns\n"
   ]
  },
  {
   "cell_type": "code",
   "execution_count": 2,
   "id": "9a14ad06",
   "metadata": {},
   "outputs": [],
   "source": [
    "sell = pd.read_csv(\"data2.csv\")"
   ]
  },
  {
   "cell_type": "code",
   "execution_count": 3,
   "id": "099f8341",
   "metadata": {},
   "outputs": [
    {
     "data": {
      "text/html": [
       "<div>\n",
       "<style scoped>\n",
       "    .dataframe tbody tr th:only-of-type {\n",
       "        vertical-align: middle;\n",
       "    }\n",
       "\n",
       "    .dataframe tbody tr th {\n",
       "        vertical-align: top;\n",
       "    }\n",
       "\n",
       "    .dataframe thead th {\n",
       "        text-align: right;\n",
       "    }\n",
       "</style>\n",
       "<table border=\"1\" class=\"dataframe\">\n",
       "  <thead>\n",
       "    <tr style=\"text-align: right;\">\n",
       "      <th></th>\n",
       "      <th>Date</th>\n",
       "      <th>Model</th>\n",
       "      <th>Count</th>\n",
       "    </tr>\n",
       "  </thead>\n",
       "  <tbody>\n",
       "    <tr>\n",
       "      <th>0</th>\n",
       "      <td>08/31/16</td>\n",
       "      <td>M45</td>\n",
       "      <td>5</td>\n",
       "    </tr>\n",
       "    <tr>\n",
       "      <th>1</th>\n",
       "      <td>08/31/16</td>\n",
       "      <td>M121</td>\n",
       "      <td>3</td>\n",
       "    </tr>\n",
       "    <tr>\n",
       "      <th>2</th>\n",
       "      <td>08/31/16</td>\n",
       "      <td>M122</td>\n",
       "      <td>4</td>\n",
       "    </tr>\n",
       "    <tr>\n",
       "      <th>3</th>\n",
       "      <td>08/31/16</td>\n",
       "      <td>M91</td>\n",
       "      <td>10</td>\n",
       "    </tr>\n",
       "    <tr>\n",
       "      <th>4</th>\n",
       "      <td>08/31/16</td>\n",
       "      <td>M66</td>\n",
       "      <td>57</td>\n",
       "    </tr>\n",
       "  </tbody>\n",
       "</table>\n",
       "</div>"
      ],
      "text/plain": [
       "       Date Model  Count\n",
       "0  08/31/16   M45      5\n",
       "1  08/31/16  M121      3\n",
       "2  08/31/16  M122      4\n",
       "3  08/31/16   M91     10\n",
       "4  08/31/16   M66     57"
      ]
     },
     "execution_count": 3,
     "metadata": {},
     "output_type": "execute_result"
    }
   ],
   "source": [
    "sell.head()"
   ]
  },
  {
   "cell_type": "code",
   "execution_count": 4,
   "id": "cf3b0581",
   "metadata": {},
   "outputs": [
    {
     "name": "stdout",
     "output_type": "stream",
     "text": [
      "<class 'pandas.core.frame.DataFrame'>\n",
      "RangeIndex: 46116 entries, 0 to 46115\n",
      "Data columns (total 3 columns):\n",
      " #   Column  Non-Null Count  Dtype \n",
      "---  ------  --------------  ----- \n",
      " 0   Date    46116 non-null  object\n",
      " 1   Model   46116 non-null  object\n",
      " 2   Count   46116 non-null  int64 \n",
      "dtypes: int64(1), object(2)\n",
      "memory usage: 1.1+ MB\n"
     ]
    }
   ],
   "source": [
    "sell.info()"
   ]
  },
  {
   "cell_type": "code",
   "execution_count": 5,
   "id": "a3009cd3",
   "metadata": {},
   "outputs": [
    {
     "data": {
      "text/html": [
       "<div>\n",
       "<style scoped>\n",
       "    .dataframe tbody tr th:only-of-type {\n",
       "        vertical-align: middle;\n",
       "    }\n",
       "\n",
       "    .dataframe tbody tr th {\n",
       "        vertical-align: top;\n",
       "    }\n",
       "\n",
       "    .dataframe thead th {\n",
       "        text-align: right;\n",
       "    }\n",
       "</style>\n",
       "<table border=\"1\" class=\"dataframe\">\n",
       "  <thead>\n",
       "    <tr style=\"text-align: right;\">\n",
       "      <th></th>\n",
       "      <th>Count</th>\n",
       "    </tr>\n",
       "  </thead>\n",
       "  <tbody>\n",
       "    <tr>\n",
       "      <th>count</th>\n",
       "      <td>46116.000000</td>\n",
       "    </tr>\n",
       "    <tr>\n",
       "      <th>mean</th>\n",
       "      <td>96.690108</td>\n",
       "    </tr>\n",
       "    <tr>\n",
       "      <th>std</th>\n",
       "      <td>315.065946</td>\n",
       "    </tr>\n",
       "    <tr>\n",
       "      <th>min</th>\n",
       "      <td>1.000000</td>\n",
       "    </tr>\n",
       "    <tr>\n",
       "      <th>25%</th>\n",
       "      <td>3.000000</td>\n",
       "    </tr>\n",
       "    <tr>\n",
       "      <th>50%</th>\n",
       "      <td>14.000000</td>\n",
       "    </tr>\n",
       "    <tr>\n",
       "      <th>75%</th>\n",
       "      <td>67.000000</td>\n",
       "    </tr>\n",
       "    <tr>\n",
       "      <th>max</th>\n",
       "      <td>6678.000000</td>\n",
       "    </tr>\n",
       "  </tbody>\n",
       "</table>\n",
       "</div>"
      ],
      "text/plain": [
       "              Count\n",
       "count  46116.000000\n",
       "mean      96.690108\n",
       "std      315.065946\n",
       "min        1.000000\n",
       "25%        3.000000\n",
       "50%       14.000000\n",
       "75%       67.000000\n",
       "max     6678.000000"
      ]
     },
     "execution_count": 5,
     "metadata": {},
     "output_type": "execute_result"
    }
   ],
   "source": [
    "sell.describe()"
   ]
  },
  {
   "cell_type": "markdown",
   "id": "c30be5fc",
   "metadata": {},
   "source": [
    "## Preproceessing the data\n",
    " Date need to convert  object to integer\n",
    " and no missing data is here"
   ]
  },
  {
   "cell_type": "code",
   "execution_count": 6,
   "id": "700bbf29",
   "metadata": {},
   "outputs": [
    {
     "data": {
      "text/plain": [
       "Date     0\n",
       "Model    0\n",
       "Count    0\n",
       "dtype: int64"
      ]
     },
     "execution_count": 6,
     "metadata": {},
     "output_type": "execute_result"
    }
   ],
   "source": [
    "# check for null values\n",
    "sell.isnull().sum()"
   ]
  },
  {
   "cell_type": "code",
   "execution_count": 7,
   "id": "40f64ba0",
   "metadata": {},
   "outputs": [
    {
     "data": {
      "text/plain": [
       "array(['08/31/16', '08/30/16', '08/29/16', '08/28/16', '08/27/16',\n",
       "       '08/26/16', '08/25/16', '08/24/16', '08/23/16', '08/22/16',\n",
       "       '08/21/16', '08/20/16', '08/19/16', '08/18/16', '08/17/16',\n",
       "       '08/16/16', '08/15/16', '08/14/16', '08/13/16', '08/12/16',\n",
       "       '08/11/16', '08/10/16', '08/09/16', '08/08/16', '08/07/16',\n",
       "       '08/06/16', '08/05/16', '08/04/16', '08/03/16', '08/02/16',\n",
       "       '08/01/16', '07/31/16', '07/30/16', '07/29/16', '07/28/16',\n",
       "       '07/27/16', '07/26/16', '07/25/16', '07/24/16', '07/23/16',\n",
       "       '07/22/16', '07/21/16', '07/20/16', '07/19/16', '07/18/16',\n",
       "       '07/17/16', '07/16/16', '07/15/16', '07/14/16', '07/13/16',\n",
       "       '07/12/16', '07/11/16', '07/10/16', '07/09/16', '07/08/16',\n",
       "       '07/07/16', '07/06/16', '07/05/16', '07/04/16', '07/03/16',\n",
       "       '07/02/16', '07/01/16', '06/30/16', '06/29/16', '06/28/16',\n",
       "       '06/27/16', '06/26/16', '06/25/16', '06/24/16', '06/23/16',\n",
       "       '06/22/16', '06/21/16', '06/20/16', '06/19/16', '06/18/16',\n",
       "       '06/17/16', '06/16/16', '06/15/16', '06/14/16', '06/13/16',\n",
       "       '06/12/16', '06/11/16', '06/10/16', '06/09/16', '06/08/16',\n",
       "       '06/07/16', '06/06/16', '06/05/16', '06/04/16', '06/03/16',\n",
       "       '06/02/16', '06/01/16', '05/31/16', '05/30/16', '05/29/16',\n",
       "       '05/28/16', '05/27/16', '05/26/16', '05/25/16', '05/24/16',\n",
       "       '05/23/16', '05/22/16', '05/21/16', '05/20/16', '05/19/16',\n",
       "       '05/18/16', '05/17/16', '05/16/16', '05/15/16', '05/14/16',\n",
       "       '05/13/16', '05/12/16', '05/11/16', '05/10/16', '05/09/16',\n",
       "       '05/08/16', '05/07/16', '05/06/16', '05/05/16', '05/04/16',\n",
       "       '05/03/16', '05/02/16', '05/01/16', '04/30/16', '04/29/16',\n",
       "       '04/28/16', '04/27/16', '04/26/16', '04/25/16', '04/24/16',\n",
       "       '04/23/16', '04/22/16', '04/21/16', '04/20/16', '04/19/16',\n",
       "       '04/18/16', '04/17/16', '04/16/16', '04/15/16', '04/14/16',\n",
       "       '04/13/16', '04/12/16', '04/11/16', '04/10/16', '04/09/16',\n",
       "       '04/08/16', '04/07/16', '04/06/16', '04/05/16', '04/04/16',\n",
       "       '04/03/16', '04/02/16', '04/01/16', '03/31/16', '03/30/16',\n",
       "       '03/29/16', '03/28/16', '03/27/16', '03/26/16', '03/25/16',\n",
       "       '03/24/16', '03/23/16', '03/22/16', '03/21/16', '03/20/16',\n",
       "       '03/19/16', '03/18/16', '03/17/16', '03/16/16', '03/15/16',\n",
       "       '03/14/16', '03/13/16', '03/12/16', '03/11/16', '03/10/16',\n",
       "       '03/09/16', '03/08/16', '03/07/16', '03/06/16', '03/05/16',\n",
       "       '03/04/16', '03/03/16', '03/02/16', '03/01/16', '02/29/16',\n",
       "       '02/28/16', '02/27/16', '02/26/16', '02/25/16', '02/24/16',\n",
       "       '02/23/16', '02/22/16', '02/21/16', '02/20/16', '02/19/16',\n",
       "       '02/18/16', '02/17/16', '02/16/16', '02/15/16', '02/14/16',\n",
       "       '02/13/16', '02/12/16', '02/11/16', '02/10/16', '02/09/16',\n",
       "       '02/08/16', '02/07/16', '02/06/16', '02/05/16', '02/04/16',\n",
       "       '02/03/16', '02/02/16', '02/01/16', '01/31/16', '01/30/16',\n",
       "       '01/29/16', '01/28/16', '01/27/16', '01/26/16', '01/25/16',\n",
       "       '01/24/16', '01/23/16', '01/22/16', '01/21/16', '01/20/16',\n",
       "       '01/19/16', '01/18/16', '01/17/16', '01/16/16', '01/15/16',\n",
       "       '01/14/16', '01/13/16', '01/12/16', '01/11/16', '01/10/16',\n",
       "       '01/09/16', '01/08/16', '01/07/16', '01/06/16', '01/05/16',\n",
       "       '01/04/16', '01/03/16', '01/02/16', '01/01/16', '12/31/15',\n",
       "       '12/30/15', '12/29/15', '12/28/15', '12/27/15', '12/26/15',\n",
       "       '12/25/15', '12/24/15', '12/23/15', '12/22/15', '12/21/15',\n",
       "       '12/20/15', '12/19/15', '12/18/15', '12/17/15', '12/16/15',\n",
       "       '12/15/15', '12/14/15', '12/13/15', '12/12/15', '12/11/15',\n",
       "       '12/10/15', '12/09/15', '12/08/15', '12/07/15', '12/06/15',\n",
       "       '12/05/15', '12/04/15', '12/03/15', '12/02/15', '12/01/15',\n",
       "       '11/30/15', '11/29/15', '11/28/15', '11/27/15', '11/26/15',\n",
       "       '11/25/15', '11/24/15', '11/23/15', '11/22/15', '11/21/15',\n",
       "       '11/20/15', '11/19/15', '11/18/15', '11/17/15', '11/16/15',\n",
       "       '11/15/15', '11/14/15', '11/13/15', '11/12/15', '11/11/15',\n",
       "       '11/10/15', '11/09/15', '11/08/15', '11/07/15', '11/06/15',\n",
       "       '11/05/15', '11/04/15', '11/03/15', '11/02/15', '11/01/15',\n",
       "       '10/31/15', '10/30/15', '10/29/15', '10/28/15', '10/27/15',\n",
       "       '10/26/15', '10/25/15', '10/24/15', '10/23/15', '10/22/15',\n",
       "       '10/21/15', '10/20/15', '10/19/15', '10/18/15', '10/17/15',\n",
       "       '10/16/15', '10/15/15', '10/14/15', '10/13/15', '10/12/15',\n",
       "       '10/11/15', '10/10/15', '10/09/15', '10/08/15', '10/07/15',\n",
       "       '10/06/15', '10/05/15', '10/04/15', '10/03/15', '10/02/15',\n",
       "       '10/01/15', '09/30/15', '09/29/15', '09/28/15', '09/27/15',\n",
       "       '09/26/15', '09/25/15', '09/24/15', '09/23/15', '09/22/15',\n",
       "       '09/21/15', '09/20/15', '09/19/15', '09/18/15', '09/17/15',\n",
       "       '09/16/15', '09/15/15', '09/14/15', '09/13/15', '09/12/15',\n",
       "       '09/11/15', '09/10/15', '09/09/15', '09/08/15', '09/07/15',\n",
       "       '09/06/15', '09/05/15', '09/04/15', '09/03/15', '09/02/15',\n",
       "       '09/01/15', '08/31/15', '08/30/15', '08/29/15', '08/28/15',\n",
       "       '08/27/15', '08/26/15', '08/25/15', '08/24/15', '08/23/15',\n",
       "       '08/22/15', '08/21/15', '08/20/15', '08/19/15', '08/18/15',\n",
       "       '08/17/15', '08/16/15', '08/15/15', '08/14/15', '08/13/15',\n",
       "       '08/12/15', '08/11/15', '08/10/15', '08/09/15', '08/08/15',\n",
       "       '08/07/15', '08/06/15', '08/05/15', '08/04/15', '08/03/15',\n",
       "       '08/02/15', '08/01/15', '07/31/15', '07/30/15', '07/29/15',\n",
       "       '07/28/15', '07/27/15', '07/26/15', '07/25/15', '07/24/15',\n",
       "       '07/23/15', '07/22/15', '07/21/15', '07/20/15', '07/19/15',\n",
       "       '07/18/15', '07/17/15', '07/16/15', '07/15/15', '07/14/15',\n",
       "       '07/13/15', '07/12/15', '07/11/15', '07/10/15', '07/09/15',\n",
       "       '07/08/15', '07/07/15', '07/06/15', '07/05/15', '07/04/15',\n",
       "       '07/03/15', '07/02/15', '07/01/15', '06/30/15', '06/29/15',\n",
       "       '06/28/15', '06/27/15', '06/26/15', '06/25/15', '06/24/15',\n",
       "       '06/23/15', '06/22/15', '06/21/15', '06/20/15', '06/19/15',\n",
       "       '06/18/15', '06/17/15', '06/16/15', '06/15/15', '06/14/15',\n",
       "       '06/13/15', '06/12/15', '06/11/15', '06/10/15', '06/09/15',\n",
       "       '06/08/15', '06/07/15', '06/06/15', '06/05/15', '06/04/15',\n",
       "       '06/03/15', '06/02/15', '06/01/15', '05/31/15', '05/30/15',\n",
       "       '05/29/15', '05/28/15', '05/27/15', '05/26/15', '05/25/15',\n",
       "       '05/24/15', '05/23/15', '05/22/15', '05/21/15', '05/20/15',\n",
       "       '05/19/15', '05/18/15', '05/17/15', '05/16/15', '05/15/15',\n",
       "       '05/14/15', '05/13/15', '05/12/15', '05/11/15', '05/10/15',\n",
       "       '05/09/15', '05/08/15', '05/07/15', '05/06/15', '05/05/15',\n",
       "       '05/04/15', '05/03/15', '05/02/15', '05/01/15', '04/30/15',\n",
       "       '04/29/15', '04/28/15', '04/27/15', '04/26/15', '04/25/15',\n",
       "       '04/24/15', '04/23/15', '04/22/15', '04/21/15', '04/20/15',\n",
       "       '04/19/15', '04/18/15', '04/17/15', '04/16/15', '04/15/15',\n",
       "       '04/14/15', '04/13/15', '04/12/15', '04/11/15', '04/10/15',\n",
       "       '04/09/15', '04/08/15', '04/07/15', '04/06/15', '04/05/15',\n",
       "       '04/04/15', '04/03/15', '04/02/15', '04/01/15', '03/31/15',\n",
       "       '03/30/15', '03/29/15', '03/28/15', '03/27/15', '03/26/15',\n",
       "       '03/25/15', '03/24/15', '03/23/15', '03/22/15', '03/21/15',\n",
       "       '03/20/15', '03/19/15', '03/18/15', '03/17/15', '03/16/15',\n",
       "       '03/15/15', '03/14/15', '03/13/15', '03/12/15', '03/11/15',\n",
       "       '03/10/15', '03/09/15', '03/08/15', '03/07/15', '03/06/15',\n",
       "       '03/05/15', '03/04/15', '03/03/15', '03/02/15', '03/01/15',\n",
       "       '02/28/15', '02/27/15', '02/26/15', '02/25/15', '02/24/15',\n",
       "       '02/23/15', '02/22/15', '02/21/15', '02/20/15', '02/19/15',\n",
       "       '02/18/15', '02/17/15', '02/16/15', '02/15/15', '02/14/15',\n",
       "       '02/13/15', '02/12/15', '02/11/15', '02/10/15', '02/09/15',\n",
       "       '02/08/15', '02/07/15', '02/06/15', '02/05/15', '02/04/15',\n",
       "       '02/03/15', '02/02/15', '02/01/15', '01/31/15', '01/30/15',\n",
       "       '01/29/15', '01/28/15', '01/27/15', '01/26/15', '01/25/15',\n",
       "       '01/24/15', '01/23/15', '01/22/15', '01/21/15', '01/20/15',\n",
       "       '01/19/15', '01/18/15', '01/17/15', '01/16/15', '01/15/15',\n",
       "       '01/14/15', '01/13/15', '01/12/15', '01/11/15', '01/10/15',\n",
       "       '01/09/15', '01/08/15', '01/07/15', '01/06/15', '01/05/15',\n",
       "       '01/04/15', '01/03/15', '01/02/15', '01/01/15', '12/31/14',\n",
       "       '12/30/14', '12/29/14', '12/28/14', '12/27/14', '12/26/14',\n",
       "       '12/25/14', '12/24/14', '12/23/14', '12/22/14', '12/21/14',\n",
       "       '12/20/14', '12/19/14', '12/18/14', '12/17/14', '12/16/14',\n",
       "       '12/15/14', '12/14/14', '12/13/14', '12/12/14', '12/11/14',\n",
       "       '12/10/14', '12/09/14', '12/08/14', '12/07/14', '12/06/14',\n",
       "       '12/05/14', '12/04/14', '12/03/14', '12/02/14', '12/01/14',\n",
       "       '11/30/14', '11/29/14', '11/28/14', '11/27/14', '11/26/14',\n",
       "       '11/25/14', '11/24/14', '11/23/14', '11/22/14', '11/21/14',\n",
       "       '11/20/14', '11/19/14', '11/18/14', '11/17/14', '11/16/14',\n",
       "       '11/15/14', '11/14/14', '11/13/14', '11/12/14', '11/11/14',\n",
       "       '11/10/14', '11/09/14', '11/08/14', '11/07/14', '11/06/14',\n",
       "       '11/05/14', '11/04/14', '11/03/14', '11/02/14', '11/01/14',\n",
       "       '10/31/14', '10/30/14', '10/29/14', '10/28/14', '10/27/14',\n",
       "       '10/26/14', '10/25/14', '10/24/14', '10/23/14', '10/22/14',\n",
       "       '10/21/14', '10/20/14', '10/19/14', '10/18/14', '10/17/14',\n",
       "       '10/16/14', '10/15/14', '10/14/14', '10/13/14', '10/12/14',\n",
       "       '10/11/14', '10/10/14', '10/09/14', '10/08/14', '10/07/14',\n",
       "       '10/06/14', '10/05/14', '10/04/14', '10/03/14', '10/02/14',\n",
       "       '10/01/14', '09/30/14', '09/29/14', '09/28/14', '09/27/14',\n",
       "       '09/26/14', '09/25/14', '09/24/14', '09/23/14', '09/22/14',\n",
       "       '09/21/14', '09/20/14', '09/19/14', '09/18/14', '09/17/14',\n",
       "       '09/16/14', '09/15/14', '09/14/14', '09/13/14', '09/12/14',\n",
       "       '09/11/14', '09/10/14', '09/09/14', '09/08/14', '09/07/14',\n",
       "       '09/06/14', '09/05/14', '09/04/14', '09/03/14', '09/02/14',\n",
       "       '09/01/14', '08/31/14', '08/30/14', '08/29/14', '08/28/14',\n",
       "       '08/27/14', '08/26/14', '08/25/14', '08/24/14', '08/23/14',\n",
       "       '08/22/14', '08/21/14', '08/20/14', '08/19/14', '08/18/14',\n",
       "       '08/17/14', '08/16/14', '08/15/14', '08/14/14', '08/13/14',\n",
       "       '08/12/14', '08/11/14', '08/10/14', '08/09/14', '08/08/14',\n",
       "       '08/07/14', '08/06/14', '08/05/14', '08/04/14', '08/03/14',\n",
       "       '08/02/14', '08/01/14', '07/31/14', '07/30/14', '07/29/14',\n",
       "       '07/28/14', '07/27/14', '07/26/14', '07/25/14', '07/24/14',\n",
       "       '07/23/14', '07/22/14', '07/21/14', '07/20/14', '07/19/14',\n",
       "       '07/18/14', '07/17/14', '07/16/14', '07/15/14', '07/14/14',\n",
       "       '07/13/14', '07/12/14', '07/11/14', '07/10/14', '07/09/14',\n",
       "       '07/08/14', '07/07/14', '07/06/14', '07/05/14', '07/04/14',\n",
       "       '07/03/14', '07/02/14', '07/01/14', '06/30/14', '06/29/14',\n",
       "       '06/28/14', '06/27/14', '06/26/14', '06/25/14', '06/24/14',\n",
       "       '06/23/14', '06/22/14', '06/21/14', '06/20/14', '06/19/14',\n",
       "       '06/18/14', '06/17/14', '06/16/14', '06/15/14', '06/14/14',\n",
       "       '06/13/14', '06/12/14', '06/11/14', '06/10/14', '06/09/14',\n",
       "       '06/08/14', '06/07/14', '06/06/14', '06/05/14', '06/04/14',\n",
       "       '06/03/14', '06/02/14', '06/01/14', '05/31/14', '05/30/14',\n",
       "       '05/29/14', '05/28/14', '05/27/14', '05/26/14', '05/25/14',\n",
       "       '05/24/14', '05/23/14', '05/22/14', '05/21/14', '05/20/14',\n",
       "       '05/19/14', '05/18/14', '05/17/14', '05/16/14', '05/15/14',\n",
       "       '05/14/14', '05/13/14', '05/12/14', '05/11/14', '05/10/14',\n",
       "       '05/09/14', '05/08/14', '05/07/14', '05/06/14', '05/05/14',\n",
       "       '05/04/14', '05/03/14', '05/02/14', '05/01/14', '04/30/14',\n",
       "       '04/29/14', '04/28/14', '04/27/14', '04/26/14', '04/25/14',\n",
       "       '04/24/14', '04/23/14', '04/22/14', '04/21/14', '04/20/14',\n",
       "       '04/19/14', '04/18/14', '04/17/14', '04/16/14', '04/15/14',\n",
       "       '04/14/14', '04/13/14', '04/12/14', '04/11/14', '04/10/14',\n",
       "       '04/09/14', '04/08/14', '04/07/14', '04/06/14', '04/05/14',\n",
       "       '04/04/14', '04/03/14', '04/02/14', '04/01/14', '03/31/14',\n",
       "       '03/30/14', '03/29/14', '03/28/14', '03/27/14', '03/26/14',\n",
       "       '03/25/14', '03/24/14', '03/23/14', '03/22/14', '03/21/14',\n",
       "       '03/20/14', '03/19/14', '03/18/14', '03/17/14', '03/16/14',\n",
       "       '03/15/14', '03/14/14', '03/13/14', '03/12/14', '03/11/14',\n",
       "       '03/10/14', '03/09/14', '03/08/14', '03/07/14', '03/06/14',\n",
       "       '03/05/14', '03/04/14', '03/03/14', '03/02/14', '03/01/14',\n",
       "       '02/28/14', '02/27/14', '02/26/14', '02/25/14', '02/24/14',\n",
       "       '02/23/14', '02/22/14', '02/21/14', '02/20/14', '02/19/14',\n",
       "       '02/18/14', '02/17/14', '02/16/14', '02/15/14', '02/14/14',\n",
       "       '02/13/14', '02/12/14', '02/11/14', '02/10/14', '02/09/14',\n",
       "       '02/08/14', '02/07/14', '02/06/14', '02/05/14', '02/04/14',\n",
       "       '02/03/14', '02/02/14', '02/01/14', '01/31/14', '01/30/14',\n",
       "       '01/29/14', '01/28/14', '01/27/14', '01/26/14', '01/25/14',\n",
       "       '01/24/14', '01/23/14', '01/22/14', '01/21/14', '01/20/14',\n",
       "       '01/19/14', '01/18/14', '01/17/14', '01/16/14', '01/15/14',\n",
       "       '01/14/14', '01/13/14', '01/12/14', '01/11/14', '01/10/14',\n",
       "       '01/09/14', '01/07/14', '01/04/14', '01/03/14', '01/02/14',\n",
       "       '01/01/14'], dtype=object)"
      ]
     },
     "execution_count": 7,
     "metadata": {},
     "output_type": "execute_result"
    }
   ],
   "source": [
    "sell[\"Date\"].unique()"
   ]
  },
  {
   "cell_type": "code",
   "execution_count": 8,
   "id": "9ecdb207",
   "metadata": {},
   "outputs": [
    {
     "data": {
      "text/plain": [
       "array(['M45', 'M121', 'M122', 'M91', 'M66', 'M100', 'M5', 'M14', 'M62',\n",
       "       'M15', 'M61', 'M82', 'M108', 'M55', 'M43', 'M31', 'M90', 'M96',\n",
       "       'M69', 'M76', 'M56', 'M92', 'M72', 'M94', 'M8', 'M97', 'M71',\n",
       "       'M57', 'M107', 'M99', 'M18', 'M30', 'M36', 'M86', 'M13', 'M73',\n",
       "       'M81', 'M41', 'M79', 'M70', 'M110', 'M95', 'M51', 'M117', 'M22',\n",
       "       'M10', 'M65', 'M115', 'M75', 'M124', 'M2', 'M42', 'M112', 'M27',\n",
       "       'M53', 'M60', 'M120', 'M23', 'M4', 'M39', 'M48', 'M32', 'M87',\n",
       "       'M6', 'M64', 'M68', 'M17', 'M7', 'M24', 'M44', 'M16', 'M77', 'M78',\n",
       "       'M28', 'M12', 'M1', 'M84', 'M11', 'M25', 'M20', 'M105', 'M88',\n",
       "       'M109', 'M21', 'M19', 'M40', 'M9', 'M116', 'M50', 'M67', 'M93',\n",
       "       'M89', 'M63', 'M123', 'M119', 'M49', 'M52', 'M102', 'M85', 'M126',\n",
       "       'M59', 'M38', 'M103', 'M74', 'M98', 'M37', 'M113', 'M125', 'M104',\n",
       "       'M26', 'M35', 'M80', 'M127', 'M111', 'M118', 'M101', 'M58', 'M47',\n",
       "       'M114', 'M54', 'M29', 'M34', 'M33', 'M106'], dtype=object)"
      ]
     },
     "execution_count": 8,
     "metadata": {},
     "output_type": "execute_result"
    }
   ],
   "source": [
    "sell[\"Model\"].unique()"
   ]
  },
  {
   "cell_type": "code",
   "execution_count": 9,
   "id": "13037b9b",
   "metadata": {},
   "outputs": [
    {
     "data": {
      "text/plain": [
       "array([  5,   3,   4, ..., 436, 407, 428], dtype=int64)"
      ]
     },
     "execution_count": 9,
     "metadata": {},
     "output_type": "execute_result"
    }
   ],
   "source": [
    "sell[\"Count\"].unique()"
   ]
  },
  {
   "cell_type": "code",
   "execution_count": 10,
   "id": "17d6d325",
   "metadata": {},
   "outputs": [
    {
     "data": {
      "image/png": "[encoded data removed]",
      "text/plain": [
       "<Figure size 1440x504 with 1 Axes>"
      ]
     },
     "metadata": {
      "needs_background": "light"
     },
     "output_type": "display_data"
    }
   ],
   "source": [
    "#import libraries\n",
    "import pandas as pd\n",
    "import matplotlib.pyplot as plt\n",
    "import matplotlib.dates as mdates\n",
    "%matplotlib inline\n",
    "\n",
    "#read data from csv\n",
    "data = pd.read_csv('data2.csv', usecols=['Date','Count'], parse_dates=['Date'])\n",
    "#set date as index\n",
    "data.set_index('Date',inplace=True)\n",
    "\n",
    "#plot data\n",
    "fig, ax = plt.subplots(figsize=(20,7))\n",
    "data.plot(ax=ax)\n",
    "\n",
    "#set ticks every week\n",
    "ax.xaxis.set_major_locator(mdates.WeekdayLocator())\n",
    "#set major ticks format\n",
    "ax.xaxis.set_major_formatter(mdates.DateFormatter('%m%d%Y'))"
   ]
  },
  {
   "cell_type": "code",
   "execution_count": 11,
   "id": "186608ed",
   "metadata": {},
   "outputs": [
    {
     "data": {
      "text/plain": [
       "[<matplotlib.lines.Line2D at 0x1b3041a3460>]"
      ]
     },
     "execution_count": 11,
     "metadata": {},
     "output_type": "execute_result"
    },
    {
     "data": {
      "image/png": "[encoded data removed]",
      "text/plain": [
       "<Figure size 1152x576 with 1 Axes>"
      ]
     },
     "metadata": {
      "needs_background": "light"
     },
     "output_type": "display_data"
    }
   ],
   "source": [
    "plt.figure(figsize=(16,8))\n",
    "plt.plot(sell['Date'], label='Close Price history')"
   ]
  },
  {
   "cell_type": "markdown",
   "id": "d544b804",
   "metadata": {},
   "source": [
    "# Convert Date  object to int "
   ]
  },
  {
   "cell_type": "code",
   "execution_count": 27,
   "id": "f3e871aa",
   "metadata": {},
   "outputs": [
    {
     "ename": "AttributeError",
     "evalue": "Can only use .str accessor with string values!",
     "output_type": "error",
     "traceback": [
      "\u001b[1;31m-----------------------------------------------------------------------\u001b[0m",
      "\u001b[1;31mAttributeError\u001b[0m                        Traceback (most recent call last)",
      "\u001b[1;32m<ipython-input-27-8ec3389575b3>\u001b[0m in \u001b[0;36m<module>\u001b[1;34m\u001b[0m\n\u001b[1;32m----> 1\u001b[1;33m \u001b[0msell\u001b[0m\u001b[1;33m[\u001b[0m\u001b[1;34m'Data'\u001b[0m\u001b[1;33m]\u001b[0m\u001b[1;33m=\u001b[0m\u001b[0msell\u001b[0m\u001b[1;33m.\u001b[0m\u001b[0mDate\u001b[0m\u001b[1;33m.\u001b[0m\u001b[0mstr\u001b[0m\u001b[1;33m.\u001b[0m\u001b[0mslice\u001b[0m\u001b[1;33m(\u001b[0m\u001b[1;33m-\u001b[0m\u001b[1;36m5\u001b[0m\u001b[1;33m,\u001b[0m \u001b[1;33m-\u001b[0m\u001b[1;36m3\u001b[0m\u001b[1;33m)\u001b[0m\u001b[1;33m.\u001b[0m\u001b[0mastype\u001b[0m\u001b[1;33m(\u001b[0m\u001b[0mint\u001b[0m\u001b[1;33m)\u001b[0m\u001b[1;33m.\u001b[0m\u001b[0mhead\u001b[0m\u001b[1;33m(\u001b[0m\u001b[1;33m)\u001b[0m\u001b[1;33m\u001b[0m\u001b[1;33m\u001b[0m\u001b[0m\n\u001b[0m\u001b[0;32m      2\u001b[0m \u001b[1;31m#sell['Date'] = pd.to_datetime(sell['Date'])\u001b[0m\u001b[1;33m\u001b[0m\u001b[1;33m\u001b[0m\u001b[1;33m\u001b[0m\u001b[0m\n",
      "\u001b[1;32mc:\\users\\user\\appdata\\local\\programs\\python\\python39\\lib\\site-packages\\pandas\\core\\generic.py\u001b[0m in \u001b[0;36m__getattr__\u001b[1;34m(self, name)\u001b[0m\n\u001b[0;32m   5459\u001b[0m             \u001b[1;32mor\u001b[0m \u001b[0mname\u001b[0m \u001b[1;32min\u001b[0m \u001b[0mself\u001b[0m\u001b[1;33m.\u001b[0m\u001b[0m_accessors\u001b[0m\u001b[1;33m\u001b[0m\u001b[1;33m\u001b[0m\u001b[0m\n\u001b[0;32m   5460\u001b[0m         ):\n\u001b[1;32m-> 5461\u001b[1;33m             \u001b[1;32mreturn\u001b[0m \u001b[0mobject\u001b[0m\u001b[1;33m.\u001b[0m\u001b[0m__getattribute__\u001b[0m\u001b[1;33m(\u001b[0m\u001b[0mself\u001b[0m\u001b[1;33m,\u001b[0m \u001b[0mname\u001b[0m\u001b[1;33m)\u001b[0m\u001b[1;33m\u001b[0m\u001b[1;33m\u001b[0m\u001b[0m\n\u001b[0m\u001b[0;32m   5462\u001b[0m         \u001b[1;32melse\u001b[0m\u001b[1;33m:\u001b[0m\u001b[1;33m\u001b[0m\u001b[1;33m\u001b[0m\u001b[0m\n\u001b[0;32m   5463\u001b[0m             \u001b[1;32mif\u001b[0m \u001b[0mself\u001b[0m\u001b[1;33m.\u001b[0m\u001b[0m_info_axis\u001b[0m\u001b[1;33m.\u001b[0m\u001b[0m_can_hold_identifiers_and_holds_name\u001b[0m\u001b[1;33m(\u001b[0m\u001b[0mname\u001b[0m\u001b[1;33m)\u001b[0m\u001b[1;33m:\u001b[0m\u001b[1;33m\u001b[0m\u001b[1;33m\u001b[0m\u001b[0m\n",
      "\u001b[1;32mc:\\users\\user\\appdata\\local\\programs\\python\\python39\\lib\\site-packages\\pandas\\core\\accessor.py\u001b[0m in \u001b[0;36m__get__\u001b[1;34m(self, obj, cls)\u001b[0m\n\u001b[0;32m    178\u001b[0m             \u001b[1;31m# we're accessing the attribute of the class, i.e., Dataset.geo\u001b[0m\u001b[1;33m\u001b[0m\u001b[1;33m\u001b[0m\u001b[1;33m\u001b[0m\u001b[0m\n\u001b[0;32m    179\u001b[0m             \u001b[1;32mreturn\u001b[0m \u001b[0mself\u001b[0m\u001b[1;33m.\u001b[0m\u001b[0m_accessor\u001b[0m\u001b[1;33m\u001b[0m\u001b[1;33m\u001b[0m\u001b[0m\n\u001b[1;32m--> 180\u001b[1;33m         \u001b[0maccessor_obj\u001b[0m \u001b[1;33m=\u001b[0m \u001b[0mself\u001b[0m\u001b[1;33m.\u001b[0m\u001b[0m_accessor\u001b[0m\u001b[1;33m(\u001b[0m\u001b[0mobj\u001b[0m\u001b[1;33m)\u001b[0m\u001b[1;33m\u001b[0m\u001b[1;33m\u001b[0m\u001b[0m\n\u001b[0m\u001b[0;32m    181\u001b[0m         \u001b[1;31m# Replace the property with the accessor object. Inspired by:\u001b[0m\u001b[1;33m\u001b[0m\u001b[1;33m\u001b[0m\u001b[1;33m\u001b[0m\u001b[0m\n\u001b[0;32m    182\u001b[0m         \u001b[1;31m# https://www.pydanny.com/cached-property.html\u001b[0m\u001b[1;33m\u001b[0m\u001b[1;33m\u001b[0m\u001b[1;33m\u001b[0m\u001b[0m\n",
      "\u001b[1;32mc:\\users\\user\\appdata\\local\\programs\\python\\python39\\lib\\site-packages\\pandas\\core\\strings\\accessor.py\u001b[0m in \u001b[0;36m__init__\u001b[1;34m(self, data)\u001b[0m\n\u001b[0;32m    152\u001b[0m         \u001b[1;32mfrom\u001b[0m \u001b[0mpandas\u001b[0m\u001b[1;33m.\u001b[0m\u001b[0mcore\u001b[0m\u001b[1;33m.\u001b[0m\u001b[0marrays\u001b[0m\u001b[1;33m.\u001b[0m\u001b[0mstring_\u001b[0m \u001b[1;32mimport\u001b[0m \u001b[0mStringDtype\u001b[0m\u001b[1;33m\u001b[0m\u001b[1;33m\u001b[0m\u001b[0m\n\u001b[0;32m    153\u001b[0m \u001b[1;33m\u001b[0m\u001b[0m\n\u001b[1;32m--> 154\u001b[1;33m         \u001b[0mself\u001b[0m\u001b[1;33m.\u001b[0m\u001b[0m_inferred_dtype\u001b[0m \u001b[1;33m=\u001b[0m \u001b[0mself\u001b[0m\u001b[1;33m.\u001b[0m\u001b[0m_validate\u001b[0m\u001b[1;33m(\u001b[0m\u001b[0mdata\u001b[0m\u001b[1;33m)\u001b[0m\u001b[1;33m\u001b[0m\u001b[1;33m\u001b[0m\u001b[0m\n\u001b[0m\u001b[0;32m    155\u001b[0m         \u001b[0mself\u001b[0m\u001b[1;33m.\u001b[0m\u001b[0m_is_categorical\u001b[0m \u001b[1;33m=\u001b[0m \u001b[0mis_categorical_dtype\u001b[0m\u001b[1;33m(\u001b[0m\u001b[0mdata\u001b[0m\u001b[1;33m.\u001b[0m\u001b[0mdtype\u001b[0m\u001b[1;33m)\u001b[0m\u001b[1;33m\u001b[0m\u001b[1;33m\u001b[0m\u001b[0m\n\u001b[0;32m    156\u001b[0m         \u001b[0mself\u001b[0m\u001b[1;33m.\u001b[0m\u001b[0m_is_string\u001b[0m \u001b[1;33m=\u001b[0m \u001b[0misinstance\u001b[0m\u001b[1;33m(\u001b[0m\u001b[0mdata\u001b[0m\u001b[1;33m.\u001b[0m\u001b[0mdtype\u001b[0m\u001b[1;33m,\u001b[0m \u001b[0mStringDtype\u001b[0m\u001b[1;33m)\u001b[0m\u001b[1;33m\u001b[0m\u001b[1;33m\u001b[0m\u001b[0m\n",
      "\u001b[1;32mc:\\users\\user\\appdata\\local\\programs\\python\\python39\\lib\\site-packages\\pandas\\core\\strings\\accessor.py\u001b[0m in \u001b[0;36m_validate\u001b[1;34m(data)\u001b[0m\n\u001b[0;32m    215\u001b[0m \u001b[1;33m\u001b[0m\u001b[0m\n\u001b[0;32m    216\u001b[0m         \u001b[1;32mif\u001b[0m \u001b[0minferred_dtype\u001b[0m \u001b[1;32mnot\u001b[0m \u001b[1;32min\u001b[0m \u001b[0mallowed_types\u001b[0m\u001b[1;33m:\u001b[0m\u001b[1;33m\u001b[0m\u001b[1;33m\u001b[0m\u001b[0m\n\u001b[1;32m--> 217\u001b[1;33m             \u001b[1;32mraise\u001b[0m \u001b[0mAttributeError\u001b[0m\u001b[1;33m(\u001b[0m\u001b[1;34m\"Can only use .str accessor with string values!\"\u001b[0m\u001b[1;33m)\u001b[0m\u001b[1;33m\u001b[0m\u001b[1;33m\u001b[0m\u001b[0m\n\u001b[0m\u001b[0;32m    218\u001b[0m         \u001b[1;32mreturn\u001b[0m \u001b[0minferred_dtype\u001b[0m\u001b[1;33m\u001b[0m\u001b[1;33m\u001b[0m\u001b[0m\n\u001b[0;32m    219\u001b[0m \u001b[1;33m\u001b[0m\u001b[0m\n",
      "\u001b[1;31mAttributeError\u001b[0m: Can only use .str accessor with string values!"
     ]
    }
   ],
   "source": [
    "\n",
    "sell['Data']=sell.Date.str.slice(-5, -3).astype(int).head()\n",
    "#sell['Date'] = pd.to_datetime(sell['Date'])"
   ]
  },
  {
   "cell_type": "code",
   "execution_count": null,
   "id": "db5f5a6c",
   "metadata": {},
   "outputs": [],
   "source": []
  },
  {
   "cell_type": "code",
   "execution_count": 13,
   "id": "69262f69",
   "metadata": {},
   "outputs": [
    {
     "name": "stdout",
     "output_type": "stream",
     "text": [
      "<class 'pandas.core.frame.DataFrame'>\n",
      "RangeIndex: 46116 entries, 0 to 46115\n",
      "Data columns (total 3 columns):\n",
      " #   Column  Non-Null Count  Dtype         \n",
      "---  ------  --------------  -----         \n",
      " 0   Date    46116 non-null  datetime64[ns]\n",
      " 1   Model   46116 non-null  object        \n",
      " 2   Count   46116 non-null  int64         \n",
      "dtypes: datetime64[ns](1), int64(1), object(1)\n",
      "memory usage: 1.1+ MB\n"
     ]
    }
   ],
   "source": [
    "sell.info()"
   ]
  },
  {
   "cell_type": "code",
   "execution_count": 14,
   "id": "c5e3dbab",
   "metadata": {},
   "outputs": [
    {
     "data": {
      "text/html": [
       "<div>\n",
       "<style scoped>\n",
       "    .dataframe tbody tr th:only-of-type {\n",
       "        vertical-align: middle;\n",
       "    }\n",
       "\n",
       "    .dataframe tbody tr th {\n",
       "        vertical-align: top;\n",
       "    }\n",
       "\n",
       "    .dataframe thead th {\n",
       "        text-align: right;\n",
       "    }\n",
       "</style>\n",
       "<table border=\"1\" class=\"dataframe\">\n",
       "  <thead>\n",
       "    <tr style=\"text-align: right;\">\n",
       "      <th></th>\n",
       "      <th>Count</th>\n",
       "    </tr>\n",
       "  </thead>\n",
       "  <tbody>\n",
       "    <tr>\n",
       "      <th>count</th>\n",
       "      <td>46116.000000</td>\n",
       "    </tr>\n",
       "    <tr>\n",
       "      <th>mean</th>\n",
       "      <td>96.690108</td>\n",
       "    </tr>\n",
       "    <tr>\n",
       "      <th>std</th>\n",
       "      <td>315.065946</td>\n",
       "    </tr>\n",
       "    <tr>\n",
       "      <th>min</th>\n",
       "      <td>1.000000</td>\n",
       "    </tr>\n",
       "    <tr>\n",
       "      <th>25%</th>\n",
       "      <td>3.000000</td>\n",
       "    </tr>\n",
       "    <tr>\n",
       "      <th>50%</th>\n",
       "      <td>14.000000</td>\n",
       "    </tr>\n",
       "    <tr>\n",
       "      <th>75%</th>\n",
       "      <td>67.000000</td>\n",
       "    </tr>\n",
       "    <tr>\n",
       "      <th>max</th>\n",
       "      <td>6678.000000</td>\n",
       "    </tr>\n",
       "  </tbody>\n",
       "</table>\n",
       "</div>"
      ],
      "text/plain": [
       "              Count\n",
       "count  46116.000000\n",
       "mean      96.690108\n",
       "std      315.065946\n",
       "min        1.000000\n",
       "25%        3.000000\n",
       "50%       14.000000\n",
       "75%       67.000000\n",
       "max     6678.000000"
      ]
     },
     "execution_count": 14,
     "metadata": {},
     "output_type": "execute_result"
    }
   ],
   "source": [
    "sell.describe()\n",
    "\n"
   ]
  },
  {
   "cell_type": "markdown",
   "id": "1d05b73a",
   "metadata": {},
   "source": [
    "## Level Encoder"
   ]
  },
  {
   "cell_type": "code",
   "execution_count": 15,
   "id": "587daa87",
   "metadata": {},
   "outputs": [],
   "source": [
    "from sklearn.preprocessing import LabelEncoder\n",
    "le = LabelEncoder()"
   ]
  },
  {
   "cell_type": "code",
   "execution_count": 16,
   "id": "4f36fde0",
   "metadata": {},
   "outputs": [
    {
     "data": {
      "text/html": [
       "<div>\n",
       "<style scoped>\n",
       "    .dataframe tbody tr th:only-of-type {\n",
       "        vertical-align: middle;\n",
       "    }\n",
       "\n",
       "    .dataframe tbody tr th {\n",
       "        vertical-align: top;\n",
       "    }\n",
       "\n",
       "    .dataframe thead th {\n",
       "        text-align: right;\n",
       "    }\n",
       "</style>\n",
       "<table border=\"1\" class=\"dataframe\">\n",
       "  <thead>\n",
       "    <tr style=\"text-align: right;\">\n",
       "      <th></th>\n",
       "      <th>Date</th>\n",
       "      <th>Model</th>\n",
       "      <th>Count</th>\n",
       "    </tr>\n",
       "  </thead>\n",
       "  <tbody>\n",
       "    <tr>\n",
       "      <th>0</th>\n",
       "      <td>2016-08-31</td>\n",
       "      <td>66</td>\n",
       "      <td>5</td>\n",
       "    </tr>\n",
       "    <tr>\n",
       "      <th>1</th>\n",
       "      <td>2016-08-31</td>\n",
       "      <td>25</td>\n",
       "      <td>3</td>\n",
       "    </tr>\n",
       "    <tr>\n",
       "      <th>2</th>\n",
       "      <td>2016-08-31</td>\n",
       "      <td>26</td>\n",
       "      <td>4</td>\n",
       "    </tr>\n",
       "    <tr>\n",
       "      <th>3</th>\n",
       "      <td>2016-08-31</td>\n",
       "      <td>115</td>\n",
       "      <td>10</td>\n",
       "    </tr>\n",
       "    <tr>\n",
       "      <th>4</th>\n",
       "      <td>2016-08-31</td>\n",
       "      <td>88</td>\n",
       "      <td>57</td>\n",
       "    </tr>\n",
       "  </tbody>\n",
       "</table>\n",
       "</div>"
      ],
      "text/plain": [
       "        Date  Model  Count\n",
       "0 2016-08-31     66      5\n",
       "1 2016-08-31     25      3\n",
       "2 2016-08-31     26      4\n",
       "3 2016-08-31    115     10\n",
       "4 2016-08-31     88     57"
      ]
     },
     "execution_count": 16,
     "metadata": {},
     "output_type": "execute_result"
    }
   ],
   "source": [
    "sell['Model'] = le.fit_transform(sell['Model'])\n",
    "sell.head()"
   ]
  },
  {
   "cell_type": "code",
   "execution_count": 17,
   "id": "81704e87",
   "metadata": {},
   "outputs": [
    {
     "data": {
      "text/html": [
       "<div>\n",
       "<style scoped>\n",
       "    .dataframe tbody tr th:only-of-type {\n",
       "        vertical-align: middle;\n",
       "    }\n",
       "\n",
       "    .dataframe tbody tr th {\n",
       "        vertical-align: top;\n",
       "    }\n",
       "\n",
       "    .dataframe thead th {\n",
       "        text-align: right;\n",
       "    }\n",
       "</style>\n",
       "<table border=\"1\" class=\"dataframe\">\n",
       "  <thead>\n",
       "    <tr style=\"text-align: right;\">\n",
       "      <th></th>\n",
       "      <th>Model</th>\n",
       "      <th>Count</th>\n",
       "    </tr>\n",
       "  </thead>\n",
       "  <tbody>\n",
       "    <tr>\n",
       "      <th>count</th>\n",
       "      <td>46116.000000</td>\n",
       "      <td>46116.000000</td>\n",
       "    </tr>\n",
       "    <tr>\n",
       "      <th>mean</th>\n",
       "      <td>62.638997</td>\n",
       "      <td>96.690108</td>\n",
       "    </tr>\n",
       "    <tr>\n",
       "      <th>std</th>\n",
       "      <td>34.709037</td>\n",
       "      <td>315.065946</td>\n",
       "    </tr>\n",
       "    <tr>\n",
       "      <th>min</th>\n",
       "      <td>0.000000</td>\n",
       "      <td>1.000000</td>\n",
       "    </tr>\n",
       "    <tr>\n",
       "      <th>25%</th>\n",
       "      <td>36.000000</td>\n",
       "      <td>3.000000</td>\n",
       "    </tr>\n",
       "    <tr>\n",
       "      <th>50%</th>\n",
       "      <td>65.000000</td>\n",
       "      <td>14.000000</td>\n",
       "    </tr>\n",
       "    <tr>\n",
       "      <th>75%</th>\n",
       "      <td>91.000000</td>\n",
       "      <td>67.000000</td>\n",
       "    </tr>\n",
       "    <tr>\n",
       "      <th>max</th>\n",
       "      <td>123.000000</td>\n",
       "      <td>6678.000000</td>\n",
       "    </tr>\n",
       "  </tbody>\n",
       "</table>\n",
       "</div>"
      ],
      "text/plain": [
       "              Model         Count\n",
       "count  46116.000000  46116.000000\n",
       "mean      62.638997     96.690108\n",
       "std       34.709037    315.065946\n",
       "min        0.000000      1.000000\n",
       "25%       36.000000      3.000000\n",
       "50%       65.000000     14.000000\n",
       "75%       91.000000     67.000000\n",
       "max      123.000000   6678.000000"
      ]
     },
     "execution_count": 17,
     "metadata": {},
     "output_type": "execute_result"
    }
   ],
   "source": [
    "sell.describe()"
   ]
  },
  {
   "cell_type": "code",
   "execution_count": null,
   "id": "8e34951a",
   "metadata": {},
   "outputs": [],
   "source": []
  },
  {
   "cell_type": "markdown",
   "id": "9e09f701",
   "metadata": {},
   "source": [
    "# Coorelation Matrix"
   ]
  },
  {
   "cell_type": "code",
   "execution_count": 18,
   "id": "9068c3e5",
   "metadata": {},
   "outputs": [
    {
     "data": {
      "text/html": [
       "<div>\n",
       "<style scoped>\n",
       "    .dataframe tbody tr th:only-of-type {\n",
       "        vertical-align: middle;\n",
       "    }\n",
       "\n",
       "    .dataframe tbody tr th {\n",
       "        vertical-align: top;\n",
       "    }\n",
       "\n",
       "    .dataframe thead th {\n",
       "        text-align: right;\n",
       "    }\n",
       "</style>\n",
       "<table border=\"1\" class=\"dataframe\">\n",
       "  <thead>\n",
       "    <tr style=\"text-align: right;\">\n",
       "      <th></th>\n",
       "      <th>Model</th>\n",
       "      <th>Count</th>\n",
       "    </tr>\n",
       "  </thead>\n",
       "  <tbody>\n",
       "    <tr>\n",
       "      <th>Model</th>\n",
       "      <td>1.000000</td>\n",
       "      <td>-0.075704</td>\n",
       "    </tr>\n",
       "    <tr>\n",
       "      <th>Count</th>\n",
       "      <td>-0.075704</td>\n",
       "      <td>1.000000</td>\n",
       "    </tr>\n",
       "  </tbody>\n",
       "</table>\n",
       "</div>"
      ],
      "text/plain": [
       "          Model     Count\n",
       "Model  1.000000 -0.075704\n",
       "Count -0.075704  1.000000"
      ]
     },
     "execution_count": 18,
     "metadata": {},
     "output_type": "execute_result"
    }
   ],
   "source": [
    "sell.corr()"
   ]
  },
  {
   "cell_type": "code",
   "execution_count": 19,
   "id": "fb64dc47",
   "metadata": {},
   "outputs": [
    {
     "data": {
      "text/plain": [
       "<AxesSubplot:>"
      ]
     },
     "execution_count": 19,
     "metadata": {},
     "output_type": "execute_result"
    },
    {
     "data": {
      "image/png": "[encoded data removed]",
      "text/plain": [
       "<Figure size 720x720 with 2 Axes>"
      ]
     },
     "metadata": {
      "needs_background": "light"
     },
     "output_type": "display_data"
    }
   ],
   "source": [
    "corr = sell.corr()\n",
    "fig, ax = plt.subplots(figsize=(10,10))\n",
    "sns.heatmap(corr, annot=True, ax=ax)"
   ]
  },
  {
   "cell_type": "markdown",
   "id": "772bf4e6",
   "metadata": {},
   "source": [
    "\n",
    "\n",
    "## Train and split Data"
   ]
  },
  {
   "cell_type": "code",
   "execution_count": 20,
   "id": "c7f9d6e6",
   "metadata": {},
   "outputs": [],
   "source": [
    "from sklearn.model_selection import train_test_split\n",
    "# train - 70\n",
    "# test - 30\n",
    "X = sell.drop(columns=['Count'])\n",
    "Y = sell['Count']\n",
    "x_train, x_test, y_train, y_test = train_test_split(X, Y, test_size=0.30)"
   ]
  },
  {
   "cell_type": "code",
   "execution_count": 21,
   "id": "94236800",
   "metadata": {},
   "outputs": [],
   "source": [
    "from sklearn.linear_model import LinearRegression\n",
    "model =LinearRegression()"
   ]
  },
  {
   "cell_type": "code",
   "execution_count": 22,
   "id": "d75a8884",
   "metadata": {},
   "outputs": [
    {
     "ename": "TypeError",
     "evalue": "The DTypes <class 'numpy.dtype[int32]'> and <class 'numpy.dtype[datetime64]'> do not have a common DType. For example they cannot be stored in a single array unless the dtype is `object`.",
     "output_type": "error",
     "traceback": [
      "\u001b[1;31m-----------------------------------------------------------------------\u001b[0m",
      "\u001b[1;31mTypeError\u001b[0m                             Traceback (most recent call last)",
      "\u001b[1;32m<ipython-input-22-139fa7af76d2>\u001b[0m in \u001b[0;36m<module>\u001b[1;34m\u001b[0m\n\u001b[1;32m----> 1\u001b[1;33m \u001b[0mmodel\u001b[0m\u001b[1;33m.\u001b[0m\u001b[0mfit\u001b[0m\u001b[1;33m(\u001b[0m\u001b[0mx_train\u001b[0m\u001b[1;33m,\u001b[0m \u001b[0my_train\u001b[0m\u001b[1;33m)\u001b[0m\u001b[1;33m\u001b[0m\u001b[1;33m\u001b[0m\u001b[0m\n\u001b[0m",
      "\u001b[1;32mc:\\users\\user\\appdata\\local\\programs\\python\\python39\\lib\\site-packages\\sklearn\\linear_model\\_base.py\u001b[0m in \u001b[0;36mfit\u001b[1;34m(self, X, y, sample_weight)\u001b[0m\n\u001b[0;32m    516\u001b[0m         \u001b[0maccept_sparse\u001b[0m \u001b[1;33m=\u001b[0m \u001b[1;32mFalse\u001b[0m \u001b[1;32mif\u001b[0m \u001b[0mself\u001b[0m\u001b[1;33m.\u001b[0m\u001b[0mpositive\u001b[0m \u001b[1;32melse\u001b[0m \u001b[1;33m[\u001b[0m\u001b[1;34m'csr'\u001b[0m\u001b[1;33m,\u001b[0m \u001b[1;34m'csc'\u001b[0m\u001b[1;33m,\u001b[0m \u001b[1;34m'coo'\u001b[0m\u001b[1;33m]\u001b[0m\u001b[1;33m\u001b[0m\u001b[1;33m\u001b[0m\u001b[0m\n\u001b[0;32m    517\u001b[0m \u001b[1;33m\u001b[0m\u001b[0m\n\u001b[1;32m--> 518\u001b[1;33m         X, y = self._validate_data(X, y, accept_sparse=accept_sparse,\n\u001b[0m\u001b[0;32m    519\u001b[0m                                    y_numeric=True, multi_output=True)\n\u001b[0;32m    520\u001b[0m \u001b[1;33m\u001b[0m\u001b[0m\n",
      "\u001b[1;32mc:\\users\\user\\appdata\\local\\programs\\python\\python39\\lib\\site-packages\\sklearn\\base.py\u001b[0m in \u001b[0;36m_validate_data\u001b[1;34m(self, X, y, reset, validate_separately, **check_params)\u001b[0m\n\u001b[0;32m    431\u001b[0m                 \u001b[0my\u001b[0m \u001b[1;33m=\u001b[0m \u001b[0mcheck_array\u001b[0m\u001b[1;33m(\u001b[0m\u001b[0my\u001b[0m\u001b[1;33m,\u001b[0m \u001b[1;33m**\u001b[0m\u001b[0mcheck_y_params\u001b[0m\u001b[1;33m)\u001b[0m\u001b[1;33m\u001b[0m\u001b[1;33m\u001b[0m\u001b[0m\n\u001b[0;32m    432\u001b[0m             \u001b[1;32melse\u001b[0m\u001b[1;33m:\u001b[0m\u001b[1;33m\u001b[0m\u001b[1;33m\u001b[0m\u001b[0m\n\u001b[1;32m--> 433\u001b[1;33m                 \u001b[0mX\u001b[0m\u001b[1;33m,\u001b[0m \u001b[0my\u001b[0m \u001b[1;33m=\u001b[0m \u001b[0mcheck_X_y\u001b[0m\u001b[1;33m(\u001b[0m\u001b[0mX\u001b[0m\u001b[1;33m,\u001b[0m \u001b[0my\u001b[0m\u001b[1;33m,\u001b[0m \u001b[1;33m**\u001b[0m\u001b[0mcheck_params\u001b[0m\u001b[1;33m)\u001b[0m\u001b[1;33m\u001b[0m\u001b[1;33m\u001b[0m\u001b[0m\n\u001b[0m\u001b[0;32m    434\u001b[0m             \u001b[0mout\u001b[0m \u001b[1;33m=\u001b[0m \u001b[0mX\u001b[0m\u001b[1;33m,\u001b[0m \u001b[0my\u001b[0m\u001b[1;33m\u001b[0m\u001b[1;33m\u001b[0m\u001b[0m\n\u001b[0;32m    435\u001b[0m \u001b[1;33m\u001b[0m\u001b[0m\n",
      "\u001b[1;32mc:\\users\\user\\appdata\\local\\programs\\python\\python39\\lib\\site-packages\\sklearn\\utils\\validation.py\u001b[0m in \u001b[0;36minner_f\u001b[1;34m(*args, **kwargs)\u001b[0m\n\u001b[0;32m     61\u001b[0m             \u001b[0mextra_args\u001b[0m \u001b[1;33m=\u001b[0m \u001b[0mlen\u001b[0m\u001b[1;33m(\u001b[0m\u001b[0margs\u001b[0m\u001b[1;33m)\u001b[0m \u001b[1;33m-\u001b[0m \u001b[0mlen\u001b[0m\u001b[1;33m(\u001b[0m\u001b[0mall_args\u001b[0m\u001b[1;33m)\u001b[0m\u001b[1;33m\u001b[0m\u001b[1;33m\u001b[0m\u001b[0m\n\u001b[0;32m     62\u001b[0m             \u001b[1;32mif\u001b[0m \u001b[0mextra_args\u001b[0m \u001b[1;33m<=\u001b[0m \u001b[1;36m0\u001b[0m\u001b[1;33m:\u001b[0m\u001b[1;33m\u001b[0m\u001b[1;33m\u001b[0m\u001b[0m\n\u001b[1;32m---> 63\u001b[1;33m                 \u001b[1;32mreturn\u001b[0m \u001b[0mf\u001b[0m\u001b[1;33m(\u001b[0m\u001b[1;33m*\u001b[0m\u001b[0margs\u001b[0m\u001b[1;33m,\u001b[0m \u001b[1;33m**\u001b[0m\u001b[0mkwargs\u001b[0m\u001b[1;33m)\u001b[0m\u001b[1;33m\u001b[0m\u001b[1;33m\u001b[0m\u001b[0m\n\u001b[0m\u001b[0;32m     64\u001b[0m \u001b[1;33m\u001b[0m\u001b[0m\n\u001b[0;32m     65\u001b[0m             \u001b[1;31m# extra_args > 0\u001b[0m\u001b[1;33m\u001b[0m\u001b[1;33m\u001b[0m\u001b[1;33m\u001b[0m\u001b[0m\n",
      "\u001b[1;32mc:\\users\\user\\appdata\\local\\programs\\python\\python39\\lib\\site-packages\\sklearn\\utils\\validation.py\u001b[0m in \u001b[0;36mcheck_X_y\u001b[1;34m(X, y, accept_sparse, accept_large_sparse, dtype, order, copy, force_all_finite, ensure_2d, allow_nd, multi_output, ensure_min_samples, ensure_min_features, y_numeric, estimator)\u001b[0m\n\u001b[0;32m    869\u001b[0m         \u001b[1;32mraise\u001b[0m \u001b[0mValueError\u001b[0m\u001b[1;33m(\u001b[0m\u001b[1;34m\"y cannot be None\"\u001b[0m\u001b[1;33m)\u001b[0m\u001b[1;33m\u001b[0m\u001b[1;33m\u001b[0m\u001b[0m\n\u001b[0;32m    870\u001b[0m \u001b[1;33m\u001b[0m\u001b[0m\n\u001b[1;32m--> 871\u001b[1;33m     X = check_array(X, accept_sparse=accept_sparse,\n\u001b[0m\u001b[0;32m    872\u001b[0m                     \u001b[0maccept_large_sparse\u001b[0m\u001b[1;33m=\u001b[0m\u001b[0maccept_large_sparse\u001b[0m\u001b[1;33m,\u001b[0m\u001b[1;33m\u001b[0m\u001b[1;33m\u001b[0m\u001b[0m\n\u001b[0;32m    873\u001b[0m                     \u001b[0mdtype\u001b[0m\u001b[1;33m=\u001b[0m\u001b[0mdtype\u001b[0m\u001b[1;33m,\u001b[0m \u001b[0morder\u001b[0m\u001b[1;33m=\u001b[0m\u001b[0morder\u001b[0m\u001b[1;33m,\u001b[0m \u001b[0mcopy\u001b[0m\u001b[1;33m=\u001b[0m\u001b[0mcopy\u001b[0m\u001b[1;33m,\u001b[0m\u001b[1;33m\u001b[0m\u001b[1;33m\u001b[0m\u001b[0m\n",
      "\u001b[1;32mc:\\users\\user\\appdata\\local\\programs\\python\\python39\\lib\\site-packages\\sklearn\\utils\\validation.py\u001b[0m in \u001b[0;36minner_f\u001b[1;34m(*args, **kwargs)\u001b[0m\n\u001b[0;32m     61\u001b[0m             \u001b[0mextra_args\u001b[0m \u001b[1;33m=\u001b[0m \u001b[0mlen\u001b[0m\u001b[1;33m(\u001b[0m\u001b[0margs\u001b[0m\u001b[1;33m)\u001b[0m \u001b[1;33m-\u001b[0m \u001b[0mlen\u001b[0m\u001b[1;33m(\u001b[0m\u001b[0mall_args\u001b[0m\u001b[1;33m)\u001b[0m\u001b[1;33m\u001b[0m\u001b[1;33m\u001b[0m\u001b[0m\n\u001b[0;32m     62\u001b[0m             \u001b[1;32mif\u001b[0m \u001b[0mextra_args\u001b[0m \u001b[1;33m<=\u001b[0m \u001b[1;36m0\u001b[0m\u001b[1;33m:\u001b[0m\u001b[1;33m\u001b[0m\u001b[1;33m\u001b[0m\u001b[0m\n\u001b[1;32m---> 63\u001b[1;33m                 \u001b[1;32mreturn\u001b[0m \u001b[0mf\u001b[0m\u001b[1;33m(\u001b[0m\u001b[1;33m*\u001b[0m\u001b[0margs\u001b[0m\u001b[1;33m,\u001b[0m \u001b[1;33m**\u001b[0m\u001b[0mkwargs\u001b[0m\u001b[1;33m)\u001b[0m\u001b[1;33m\u001b[0m\u001b[1;33m\u001b[0m\u001b[0m\n\u001b[0m\u001b[0;32m     64\u001b[0m \u001b[1;33m\u001b[0m\u001b[0m\n\u001b[0;32m     65\u001b[0m             \u001b[1;31m# extra_args > 0\u001b[0m\u001b[1;33m\u001b[0m\u001b[1;33m\u001b[0m\u001b[1;33m\u001b[0m\u001b[0m\n",
      "\u001b[1;32mc:\\users\\user\\appdata\\local\\programs\\python\\python39\\lib\\site-packages\\sklearn\\utils\\validation.py\u001b[0m in \u001b[0;36mcheck_array\u001b[1;34m(array, accept_sparse, accept_large_sparse, dtype, order, copy, force_all_finite, ensure_2d, allow_nd, ensure_min_samples, ensure_min_features, estimator)\u001b[0m\n\u001b[0;32m    595\u001b[0m \u001b[1;33m\u001b[0m\u001b[0m\n\u001b[0;32m    596\u001b[0m         \u001b[1;32mif\u001b[0m \u001b[0mall\u001b[0m\u001b[1;33m(\u001b[0m\u001b[0misinstance\u001b[0m\u001b[1;33m(\u001b[0m\u001b[0mdtype\u001b[0m\u001b[1;33m,\u001b[0m \u001b[0mnp\u001b[0m\u001b[1;33m.\u001b[0m\u001b[0mdtype\u001b[0m\u001b[1;33m)\u001b[0m \u001b[1;32mfor\u001b[0m \u001b[0mdtype\u001b[0m \u001b[1;32min\u001b[0m \u001b[0mdtypes_orig\u001b[0m\u001b[1;33m)\u001b[0m\u001b[1;33m:\u001b[0m\u001b[1;33m\u001b[0m\u001b[1;33m\u001b[0m\u001b[0m\n\u001b[1;32m--> 597\u001b[1;33m             \u001b[0mdtype_orig\u001b[0m \u001b[1;33m=\u001b[0m \u001b[0mnp\u001b[0m\u001b[1;33m.\u001b[0m\u001b[0mresult_type\u001b[0m\u001b[1;33m(\u001b[0m\u001b[1;33m*\u001b[0m\u001b[0mdtypes_orig\u001b[0m\u001b[1;33m)\u001b[0m\u001b[1;33m\u001b[0m\u001b[1;33m\u001b[0m\u001b[0m\n\u001b[0m\u001b[0;32m    598\u001b[0m \u001b[1;33m\u001b[0m\u001b[0m\n\u001b[0;32m    599\u001b[0m     \u001b[1;32mif\u001b[0m \u001b[0mdtype_numeric\u001b[0m\u001b[1;33m:\u001b[0m\u001b[1;33m\u001b[0m\u001b[1;33m\u001b[0m\u001b[0m\n",
      "\u001b[1;32m<__array_function__ internals>\u001b[0m in \u001b[0;36mresult_type\u001b[1;34m(*args, **kwargs)\u001b[0m\n",
      "\u001b[1;31mTypeError\u001b[0m: The DTypes <class 'numpy.dtype[int32]'> and <class 'numpy.dtype[datetime64]'> do not have a common DType. For example they cannot be stored in a single array unless the dtype is `object`."
     ]
    }
   ],
   "source": [
    "model.fit(x_train, y_train)"
   ]
  },
  {
   "cell_type": "code",
   "execution_count": null,
   "id": "7af0c6c5",
   "metadata": {},
   "outputs": [],
   "source": [
    "# print metric to get performance\n",
    "print(\"Accuracy: \",model.score(x_test, y_test) *100)"
   ]
  },
  {
   "cell_type": "code",
   "execution_count": null,
   "id": "c3617cc6",
   "metadata": {},
   "outputs": [],
   "source": []
  }
 ],
 "metadata": {
  "kernelspec": {
   "display_name": "Python 3",
   "language": "python",
   "name": "python3"
  },
  "language_info": {
   "codemirror_mode": {
    "name": "ipython",
    "version": 3
   },
   "file_extension": ".py",
   "mimetype": "text/x-python",
   "name": "python",
   "nbconvert_exporter": "python",
   "pygments_lexer": "ipython3",
   "version": "3.9.4"
  }
 },
 "nbformat": 4,
 "nbformat_minor": 5
}
