{
 "cells": [
  {
   "cell_type": "markdown",
   "id": "1484f38d",
   "metadata": {},
   "source": [
    "## Audit Task\n"
   ]
  },
  {
   "cell_type": "code",
   "execution_count": 1,
   "id": "9f547d89",
   "metadata": {},
   "outputs": [],
   "source": [
    "import pandas as pd\n",
    "import numpy as np\n",
    "import  matplotlib.pyplot as plt\n",
    "import  seaborn as sns\n"
   ]
  },
  {
   "cell_type": "code",
   "execution_count": 2,
   "id": "849e0e03",
   "metadata": {},
   "outputs": [],
   "source": [
    "audit = pd.read_csv(\"data.csv\")"
   ]
  },
  {
   "cell_type": "code",
   "execution_count": 3,
   "id": "0f290041",
   "metadata": {
    "scrolled": true
   },
   "outputs": [
    {
     "data": {
      "text/html": [
       "<div>\n",
       "<style scoped>\n",
       "    .dataframe tbody tr th:only-of-type {\n",
       "        vertical-align: middle;\n",
       "    }\n",
       "\n",
       "    .dataframe tbody tr th {\n",
       "        vertical-align: top;\n",
       "    }\n",
       "\n",
       "    .dataframe thead th {\n",
       "        text-align: right;\n",
       "    }\n",
       "</style>\n",
       "<table border=\"1\" class=\"dataframe\">\n",
       "  <thead>\n",
       "    <tr style=\"text-align: right;\">\n",
       "      <th></th>\n",
       "      <th>Sector_score</th>\n",
       "      <th>LOCATION_ID</th>\n",
       "      <th>PARA_A</th>\n",
       "      <th>SCORE_A</th>\n",
       "      <th>PARA_B</th>\n",
       "      <th>SCORE_B</th>\n",
       "      <th>TOTAL</th>\n",
       "      <th>numbers</th>\n",
       "      <th>Marks</th>\n",
       "      <th>Money_Value</th>\n",
       "      <th>MONEY_Marks</th>\n",
       "      <th>District</th>\n",
       "      <th>Loss</th>\n",
       "      <th>LOSS_SCORE</th>\n",
       "      <th>History</th>\n",
       "      <th>History_score</th>\n",
       "      <th>Score</th>\n",
       "      <th>Risk</th>\n",
       "    </tr>\n",
       "  </thead>\n",
       "  <tbody>\n",
       "    <tr>\n",
       "      <th>0</th>\n",
       "      <td>3.89</td>\n",
       "      <td>23</td>\n",
       "      <td>4.18</td>\n",
       "      <td>6</td>\n",
       "      <td>2.50</td>\n",
       "      <td>2</td>\n",
       "      <td>6.68</td>\n",
       "      <td>5.0</td>\n",
       "      <td>2</td>\n",
       "      <td>3.38</td>\n",
       "      <td>2</td>\n",
       "      <td>2</td>\n",
       "      <td>0</td>\n",
       "      <td>2</td>\n",
       "      <td>0</td>\n",
       "      <td>2</td>\n",
       "      <td>2.4</td>\n",
       "      <td>1</td>\n",
       "    </tr>\n",
       "    <tr>\n",
       "      <th>1</th>\n",
       "      <td>3.89</td>\n",
       "      <td>6</td>\n",
       "      <td>0.00</td>\n",
       "      <td>2</td>\n",
       "      <td>4.83</td>\n",
       "      <td>2</td>\n",
       "      <td>4.83</td>\n",
       "      <td>5.0</td>\n",
       "      <td>2</td>\n",
       "      <td>0.94</td>\n",
       "      <td>2</td>\n",
       "      <td>2</td>\n",
       "      <td>0</td>\n",
       "      <td>2</td>\n",
       "      <td>0</td>\n",
       "      <td>2</td>\n",
       "      <td>2.0</td>\n",
       "      <td>0</td>\n",
       "    </tr>\n",
       "    <tr>\n",
       "      <th>2</th>\n",
       "      <td>3.89</td>\n",
       "      <td>6</td>\n",
       "      <td>0.51</td>\n",
       "      <td>2</td>\n",
       "      <td>0.23</td>\n",
       "      <td>2</td>\n",
       "      <td>0.74</td>\n",
       "      <td>5.0</td>\n",
       "      <td>2</td>\n",
       "      <td>0.00</td>\n",
       "      <td>2</td>\n",
       "      <td>2</td>\n",
       "      <td>0</td>\n",
       "      <td>2</td>\n",
       "      <td>0</td>\n",
       "      <td>2</td>\n",
       "      <td>2.0</td>\n",
       "      <td>0</td>\n",
       "    </tr>\n",
       "    <tr>\n",
       "      <th>3</th>\n",
       "      <td>3.89</td>\n",
       "      <td>6</td>\n",
       "      <td>0.00</td>\n",
       "      <td>2</td>\n",
       "      <td>10.80</td>\n",
       "      <td>6</td>\n",
       "      <td>10.80</td>\n",
       "      <td>6.0</td>\n",
       "      <td>6</td>\n",
       "      <td>11.75</td>\n",
       "      <td>6</td>\n",
       "      <td>2</td>\n",
       "      <td>0</td>\n",
       "      <td>2</td>\n",
       "      <td>0</td>\n",
       "      <td>2</td>\n",
       "      <td>4.4</td>\n",
       "      <td>1</td>\n",
       "    </tr>\n",
       "    <tr>\n",
       "      <th>4</th>\n",
       "      <td>3.89</td>\n",
       "      <td>6</td>\n",
       "      <td>0.00</td>\n",
       "      <td>2</td>\n",
       "      <td>0.08</td>\n",
       "      <td>2</td>\n",
       "      <td>0.08</td>\n",
       "      <td>5.0</td>\n",
       "      <td>2</td>\n",
       "      <td>0.00</td>\n",
       "      <td>2</td>\n",
       "      <td>2</td>\n",
       "      <td>0</td>\n",
       "      <td>2</td>\n",
       "      <td>0</td>\n",
       "      <td>2</td>\n",
       "      <td>2.0</td>\n",
       "      <td>0</td>\n",
       "    </tr>\n",
       "  </tbody>\n",
       "</table>\n",
       "</div>"
      ],
      "text/plain": [
       "   Sector_score  LOCATION_ID  PARA_A  SCORE_A  PARA_B  SCORE_B  TOTAL  \\\n",
       "0          3.89           23    4.18        6    2.50        2   6.68   \n",
       "1          3.89            6    0.00        2    4.83        2   4.83   \n",
       "2          3.89            6    0.51        2    0.23        2   0.74   \n",
       "3          3.89            6    0.00        2   10.80        6  10.80   \n",
       "4          3.89            6    0.00        2    0.08        2   0.08   \n",
       "\n",
       "   numbers  Marks  Money_Value  MONEY_Marks  District  Loss  LOSS_SCORE  \\\n",
       "0      5.0      2         3.38            2         2     0           2   \n",
       "1      5.0      2         0.94            2         2     0           2   \n",
       "2      5.0      2         0.00            2         2     0           2   \n",
       "3      6.0      6        11.75            6         2     0           2   \n",
       "4      5.0      2         0.00            2         2     0           2   \n",
       "\n",
       "   History  History_score  Score  Risk  \n",
       "0        0              2    2.4     1  \n",
       "1        0              2    2.0     0  \n",
       "2        0              2    2.0     0  \n",
       "3        0              2    4.4     1  \n",
       "4        0              2    2.0     0  "
      ]
     },
     "execution_count": 3,
     "metadata": {},
     "output_type": "execute_result"
    }
   ],
   "source": [
    "audit.head()"
   ]
  },
  {
   "cell_type": "code",
   "execution_count": 4,
   "id": "ce264c6b",
   "metadata": {},
   "outputs": [
    {
     "name": "stdout",
     "output_type": "stream",
     "text": [
      "<class 'pandas.core.frame.DataFrame'>\n",
      "RangeIndex: 773 entries, 0 to 772\n",
      "Data columns (total 18 columns):\n",
      " #   Column         Non-Null Count  Dtype  \n",
      "---  ------         --------------  -----  \n",
      " 0   Sector_score   773 non-null    float64\n",
      " 1   LOCATION_ID    773 non-null    int64  \n",
      " 2   PARA_A         773 non-null    float64\n",
      " 3   SCORE_A        773 non-null    int64  \n",
      " 4   PARA_B         773 non-null    float64\n",
      " 5   SCORE_B        773 non-null    int64  \n",
      " 6   TOTAL          773 non-null    float64\n",
      " 7   numbers        773 non-null    float64\n",
      " 8   Marks          773 non-null    int64  \n",
      " 9   Money_Value    772 non-null    float64\n",
      " 10  MONEY_Marks    773 non-null    int64  \n",
      " 11  District       773 non-null    int64  \n",
      " 12  Loss           773 non-null    int64  \n",
      " 13  LOSS_SCORE     773 non-null    int64  \n",
      " 14  History        773 non-null    int64  \n",
      " 15  History_score  773 non-null    int64  \n",
      " 16  Score          773 non-null    float64\n",
      " 17  Risk           773 non-null    int64  \n",
      "dtypes: float64(7), int64(11)\n",
      "memory usage: 108.8 KB\n"
     ]
    }
   ],
   "source": [
    "audit.info()"
   ]
  },
  {
   "cell_type": "markdown",
   "id": "bd1d1411",
   "metadata": {},
   "source": [
    "# Preprocessing the dataset"
   ]
  },
  {
   "cell_type": "code",
   "execution_count": 5,
   "id": "6581ca54",
   "metadata": {},
   "outputs": [
    {
     "data": {
      "text/plain": [
       "Sector_score     0\n",
       "LOCATION_ID      0\n",
       "PARA_A           0\n",
       "SCORE_A          0\n",
       "PARA_B           0\n",
       "SCORE_B          0\n",
       "TOTAL            0\n",
       "numbers          0\n",
       "Marks            0\n",
       "Money_Value      1\n",
       "MONEY_Marks      0\n",
       "District         0\n",
       "Loss             0\n",
       "LOSS_SCORE       0\n",
       "History          0\n",
       "History_score    0\n",
       "Score            0\n",
       "Risk             0\n",
       "dtype: int64"
      ]
     },
     "execution_count": 5,
     "metadata": {},
     "output_type": "execute_result"
    }
   ],
   "source": [
    "# check for null values\n",
    "audit.isnull().sum()"
   ]
  },
  {
   "cell_type": "code",
   "execution_count": 6,
   "id": "7b753b5f",
   "metadata": {},
   "outputs": [
    {
     "data": {
      "text/plain": [
       "1    486\n",
       "0    287\n",
       "Name: Risk, dtype: int64"
      ]
     },
     "execution_count": 6,
     "metadata": {},
     "output_type": "execute_result"
    }
   ],
   "source": [
    "audit['Risk'].value_counts()\n"
   ]
  },
  {
   "cell_type": "markdown",
   "id": "bdf0b2cf",
   "metadata": {},
   "source": [
    "## FIll the missing data"
   ]
  },
  {
   "cell_type": "code",
   "execution_count": 7,
   "id": "5466d8cb",
   "metadata": {},
   "outputs": [],
   "source": [
    "median =  audit[\"Money_Value\"].median"
   ]
  },
  {
   "cell_type": "code",
   "execution_count": 8,
   "id": "aa7f8849",
   "metadata": {},
   "outputs": [
    {
     "data": {
      "text/plain": [
       "0       3.38\n",
       "1       0.94\n",
       "2        0.0\n",
       "3      11.75\n",
       "4        0.0\n",
       "       ...  \n",
       "768      0.0\n",
       "769      0.0\n",
       "770      0.0\n",
       "771      0.0\n",
       "772     0.32\n",
       "Name: Money_Value, Length: 773, dtype: object"
      ]
     },
     "execution_count": 8,
     "metadata": {},
     "output_type": "execute_result"
    }
   ],
   "source": [
    "audit[\"Money_Value\"].fillna(median)"
   ]
  },
  {
   "cell_type": "code",
   "execution_count": 9,
   "id": "e6d07234",
   "metadata": {},
   "outputs": [
    {
     "data": {
      "text/html": [
       "<div>\n",
       "<style scoped>\n",
       "    .dataframe tbody tr th:only-of-type {\n",
       "        vertical-align: middle;\n",
       "    }\n",
       "\n",
       "    .dataframe tbody tr th {\n",
       "        vertical-align: top;\n",
       "    }\n",
       "\n",
       "    .dataframe thead th {\n",
       "        text-align: right;\n",
       "    }\n",
       "</style>\n",
       "<table border=\"1\" class=\"dataframe\">\n",
       "  <thead>\n",
       "    <tr style=\"text-align: right;\">\n",
       "      <th></th>\n",
       "      <th>Sector_score</th>\n",
       "      <th>LOCATION_ID</th>\n",
       "      <th>PARA_A</th>\n",
       "      <th>SCORE_A</th>\n",
       "      <th>PARA_B</th>\n",
       "      <th>SCORE_B</th>\n",
       "      <th>TOTAL</th>\n",
       "      <th>numbers</th>\n",
       "      <th>Marks</th>\n",
       "      <th>Money_Value</th>\n",
       "      <th>MONEY_Marks</th>\n",
       "      <th>District</th>\n",
       "      <th>Loss</th>\n",
       "      <th>LOSS_SCORE</th>\n",
       "      <th>History</th>\n",
       "      <th>History_score</th>\n",
       "      <th>Score</th>\n",
       "      <th>Risk</th>\n",
       "    </tr>\n",
       "  </thead>\n",
       "  <tbody>\n",
       "    <tr>\n",
       "      <th>count</th>\n",
       "      <td>773.000000</td>\n",
       "      <td>773.000000</td>\n",
       "      <td>773.000000</td>\n",
       "      <td>773.000000</td>\n",
       "      <td>773.000000</td>\n",
       "      <td>773.000000</td>\n",
       "      <td>773.000000</td>\n",
       "      <td>773.000000</td>\n",
       "      <td>773.000000</td>\n",
       "      <td>772.000000</td>\n",
       "      <td>773.000000</td>\n",
       "      <td>773.000000</td>\n",
       "      <td>773.000000</td>\n",
       "      <td>773.000000</td>\n",
       "      <td>773.000000</td>\n",
       "      <td>773.000000</td>\n",
       "      <td>773.000000</td>\n",
       "      <td>773.000000</td>\n",
       "    </tr>\n",
       "    <tr>\n",
       "      <th>mean</th>\n",
       "      <td>20.255149</td>\n",
       "      <td>14.856404</td>\n",
       "      <td>2.457983</td>\n",
       "      <td>3.518758</td>\n",
       "      <td>10.841903</td>\n",
       "      <td>3.135834</td>\n",
       "      <td>13.268062</td>\n",
       "      <td>5.067917</td>\n",
       "      <td>2.238034</td>\n",
       "      <td>14.191093</td>\n",
       "      <td>2.913325</td>\n",
       "      <td>2.507115</td>\n",
       "      <td>0.029754</td>\n",
       "      <td>2.062096</td>\n",
       "      <td>0.104787</td>\n",
       "      <td>2.168176</td>\n",
       "      <td>2.705304</td>\n",
       "      <td>0.628719</td>\n",
       "    </tr>\n",
       "    <tr>\n",
       "      <th>std</th>\n",
       "      <td>24.339709</td>\n",
       "      <td>9.891317</td>\n",
       "      <td>5.688509</td>\n",
       "      <td>1.741366</td>\n",
       "      <td>50.176308</td>\n",
       "      <td>1.699869</td>\n",
       "      <td>51.406241</td>\n",
       "      <td>0.264928</td>\n",
       "      <td>0.804941</td>\n",
       "      <td>66.730436</td>\n",
       "      <td>1.599544</td>\n",
       "      <td>1.230659</td>\n",
       "      <td>0.184628</td>\n",
       "      <td>0.375788</td>\n",
       "      <td>0.532022</td>\n",
       "      <td>0.681108</td>\n",
       "      <td>0.859470</td>\n",
       "      <td>0.483460</td>\n",
       "    </tr>\n",
       "    <tr>\n",
       "      <th>min</th>\n",
       "      <td>1.850000</td>\n",
       "      <td>1.000000</td>\n",
       "      <td>0.000000</td>\n",
       "      <td>2.000000</td>\n",
       "      <td>0.000000</td>\n",
       "      <td>2.000000</td>\n",
       "      <td>0.000000</td>\n",
       "      <td>5.000000</td>\n",
       "      <td>2.000000</td>\n",
       "      <td>0.000000</td>\n",
       "      <td>2.000000</td>\n",
       "      <td>2.000000</td>\n",
       "      <td>0.000000</td>\n",
       "      <td>2.000000</td>\n",
       "      <td>0.000000</td>\n",
       "      <td>2.000000</td>\n",
       "      <td>2.000000</td>\n",
       "      <td>0.000000</td>\n",
       "    </tr>\n",
       "    <tr>\n",
       "      <th>25%</th>\n",
       "      <td>2.370000</td>\n",
       "      <td>8.000000</td>\n",
       "      <td>0.210000</td>\n",
       "      <td>2.000000</td>\n",
       "      <td>0.000000</td>\n",
       "      <td>2.000000</td>\n",
       "      <td>0.540000</td>\n",
       "      <td>5.000000</td>\n",
       "      <td>2.000000</td>\n",
       "      <td>0.000000</td>\n",
       "      <td>2.000000</td>\n",
       "      <td>2.000000</td>\n",
       "      <td>0.000000</td>\n",
       "      <td>2.000000</td>\n",
       "      <td>0.000000</td>\n",
       "      <td>2.000000</td>\n",
       "      <td>2.000000</td>\n",
       "      <td>0.000000</td>\n",
       "    </tr>\n",
       "    <tr>\n",
       "      <th>50%</th>\n",
       "      <td>3.890000</td>\n",
       "      <td>13.000000</td>\n",
       "      <td>0.880000</td>\n",
       "      <td>2.000000</td>\n",
       "      <td>0.410000</td>\n",
       "      <td>2.000000</td>\n",
       "      <td>1.390000</td>\n",
       "      <td>5.000000</td>\n",
       "      <td>2.000000</td>\n",
       "      <td>0.090000</td>\n",
       "      <td>2.000000</td>\n",
       "      <td>2.000000</td>\n",
       "      <td>0.000000</td>\n",
       "      <td>2.000000</td>\n",
       "      <td>0.000000</td>\n",
       "      <td>2.000000</td>\n",
       "      <td>2.400000</td>\n",
       "      <td>1.000000</td>\n",
       "    </tr>\n",
       "    <tr>\n",
       "      <th>75%</th>\n",
       "      <td>55.570000</td>\n",
       "      <td>19.000000</td>\n",
       "      <td>2.480000</td>\n",
       "      <td>6.000000</td>\n",
       "      <td>4.160000</td>\n",
       "      <td>4.000000</td>\n",
       "      <td>7.760000</td>\n",
       "      <td>5.000000</td>\n",
       "      <td>2.000000</td>\n",
       "      <td>5.630000</td>\n",
       "      <td>4.000000</td>\n",
       "      <td>2.000000</td>\n",
       "      <td>0.000000</td>\n",
       "      <td>2.000000</td>\n",
       "      <td>0.000000</td>\n",
       "      <td>2.000000</td>\n",
       "      <td>3.400000</td>\n",
       "      <td>1.000000</td>\n",
       "    </tr>\n",
       "    <tr>\n",
       "      <th>max</th>\n",
       "      <td>59.850000</td>\n",
       "      <td>44.000000</td>\n",
       "      <td>85.000000</td>\n",
       "      <td>6.000000</td>\n",
       "      <td>1264.630000</td>\n",
       "      <td>6.000000</td>\n",
       "      <td>1268.910000</td>\n",
       "      <td>9.000000</td>\n",
       "      <td>6.000000</td>\n",
       "      <td>935.030000</td>\n",
       "      <td>6.000000</td>\n",
       "      <td>6.000000</td>\n",
       "      <td>2.000000</td>\n",
       "      <td>6.000000</td>\n",
       "      <td>9.000000</td>\n",
       "      <td>6.000000</td>\n",
       "      <td>5.200000</td>\n",
       "      <td>1.000000</td>\n",
       "    </tr>\n",
       "  </tbody>\n",
       "</table>\n",
       "</div>"
      ],
      "text/plain": [
       "       Sector_score  LOCATION_ID      PARA_A     SCORE_A       PARA_B  \\\n",
       "count    773.000000   773.000000  773.000000  773.000000   773.000000   \n",
       "mean      20.255149    14.856404    2.457983    3.518758    10.841903   \n",
       "std       24.339709     9.891317    5.688509    1.741366    50.176308   \n",
       "min        1.850000     1.000000    0.000000    2.000000     0.000000   \n",
       "25%        2.370000     8.000000    0.210000    2.000000     0.000000   \n",
       "50%        3.890000    13.000000    0.880000    2.000000     0.410000   \n",
       "75%       55.570000    19.000000    2.480000    6.000000     4.160000   \n",
       "max       59.850000    44.000000   85.000000    6.000000  1264.630000   \n",
       "\n",
       "          SCORE_B        TOTAL     numbers       Marks  Money_Value  \\\n",
       "count  773.000000   773.000000  773.000000  773.000000   772.000000   \n",
       "mean     3.135834    13.268062    5.067917    2.238034    14.191093   \n",
       "std      1.699869    51.406241    0.264928    0.804941    66.730436   \n",
       "min      2.000000     0.000000    5.000000    2.000000     0.000000   \n",
       "25%      2.000000     0.540000    5.000000    2.000000     0.000000   \n",
       "50%      2.000000     1.390000    5.000000    2.000000     0.090000   \n",
       "75%      4.000000     7.760000    5.000000    2.000000     5.630000   \n",
       "max      6.000000  1268.910000    9.000000    6.000000   935.030000   \n",
       "\n",
       "       MONEY_Marks    District        Loss  LOSS_SCORE     History  \\\n",
       "count   773.000000  773.000000  773.000000  773.000000  773.000000   \n",
       "mean      2.913325    2.507115    0.029754    2.062096    0.104787   \n",
       "std       1.599544    1.230659    0.184628    0.375788    0.532022   \n",
       "min       2.000000    2.000000    0.000000    2.000000    0.000000   \n",
       "25%       2.000000    2.000000    0.000000    2.000000    0.000000   \n",
       "50%       2.000000    2.000000    0.000000    2.000000    0.000000   \n",
       "75%       4.000000    2.000000    0.000000    2.000000    0.000000   \n",
       "max       6.000000    6.000000    2.000000    6.000000    9.000000   \n",
       "\n",
       "       History_score       Score        Risk  \n",
       "count     773.000000  773.000000  773.000000  \n",
       "mean        2.168176    2.705304    0.628719  \n",
       "std         0.681108    0.859470    0.483460  \n",
       "min         2.000000    2.000000    0.000000  \n",
       "25%         2.000000    2.000000    0.000000  \n",
       "50%         2.000000    2.400000    1.000000  \n",
       "75%         2.000000    3.400000    1.000000  \n",
       "max         6.000000    5.200000    1.000000  "
      ]
     },
     "execution_count": 9,
     "metadata": {},
     "output_type": "execute_result"
    }
   ],
   "source": [
    "audit.describe() ###before missing"
   ]
  },
  {
   "cell_type": "code",
   "execution_count": 10,
   "id": "c4f5b5d9",
   "metadata": {},
   "outputs": [
    {
     "data": {
      "text/plain": [
       "SimpleImputer(strategy='median')"
      ]
     },
     "execution_count": 10,
     "metadata": {},
     "output_type": "execute_result"
    }
   ],
   "source": [
    "from sklearn.impute import SimpleImputer\n",
    "imputer = SimpleImputer(strategy=\"median\")\n",
    "imputer.fit(audit)"
   ]
  },
  {
   "cell_type": "code",
   "execution_count": 11,
   "id": "44a88358",
   "metadata": {},
   "outputs": [
    {
     "data": {
      "text/plain": [
       "array([ 3.89, 13.  ,  0.88,  2.  ,  0.41,  2.  ,  1.39,  5.  ,  2.  ,\n",
       "        0.09,  2.  ,  2.  ,  0.  ,  2.  ,  0.  ,  2.  ,  2.4 ,  1.  ])"
      ]
     },
     "execution_count": 11,
     "metadata": {},
     "output_type": "execute_result"
    }
   ],
   "source": [
    "imputer.statistics_"
   ]
  },
  {
   "cell_type": "code",
   "execution_count": 12,
   "id": "b88dd631",
   "metadata": {},
   "outputs": [],
   "source": [
    "X = imputer.transform(audit)"
   ]
  },
  {
   "cell_type": "code",
   "execution_count": 13,
   "id": "366cb8c7",
   "metadata": {},
   "outputs": [],
   "source": [
    "audit = pd.DataFrame(X, columns=audit.columns)"
   ]
  },
  {
   "cell_type": "code",
   "execution_count": 14,
   "id": "308429bf",
   "metadata": {},
   "outputs": [
    {
     "data": {
      "text/plain": [
       "<bound method NDFrame.describe of      Sector_score  LOCATION_ID  PARA_A  SCORE_A  PARA_B  SCORE_B  TOTAL  \\\n",
       "0            3.89         23.0    4.18      6.0    2.50      2.0   6.68   \n",
       "1            3.89          6.0    0.00      2.0    4.83      2.0   4.83   \n",
       "2            3.89          6.0    0.51      2.0    0.23      2.0   0.74   \n",
       "3            3.89          6.0    0.00      2.0   10.80      6.0  10.80   \n",
       "4            3.89          6.0    0.00      2.0    0.08      2.0   0.08   \n",
       "..            ...          ...     ...      ...     ...      ...    ...   \n",
       "768         55.57          9.0    0.49      2.0    0.40      2.0   0.89   \n",
       "769         55.57         16.0    0.47      2.0    0.37      2.0   0.84   \n",
       "770         55.57         14.0    0.24      2.0    0.04      2.0   0.28   \n",
       "771         55.57         18.0    0.20      2.0    0.00      2.0   0.20   \n",
       "772         55.57         15.0    0.00      2.0    0.00      2.0   0.00   \n",
       "\n",
       "     numbers  Marks  Money_Value  MONEY_Marks  District  Loss  LOSS_SCORE  \\\n",
       "0        5.0    2.0         3.38          2.0       2.0   0.0         2.0   \n",
       "1        5.0    2.0         0.94          2.0       2.0   0.0         2.0   \n",
       "2        5.0    2.0         0.00          2.0       2.0   0.0         2.0   \n",
       "3        6.0    6.0        11.75          6.0       2.0   0.0         2.0   \n",
       "4        5.0    2.0         0.00          2.0       2.0   0.0         2.0   \n",
       "..       ...    ...          ...          ...       ...   ...         ...   \n",
       "768      5.0    2.0         0.00          2.0       2.0   0.0         2.0   \n",
       "769      5.0    2.0         0.00          2.0       2.0   0.0         2.0   \n",
       "770      5.0    2.0         0.00          2.0       2.0   0.0         2.0   \n",
       "771      5.0    2.0         0.00          2.0       2.0   0.0         2.0   \n",
       "772      5.0    2.0         0.32          2.0       2.0   0.0         2.0   \n",
       "\n",
       "     History  History_score  Score  Risk  \n",
       "0        0.0            2.0    2.4   1.0  \n",
       "1        0.0            2.0    2.0   0.0  \n",
       "2        0.0            2.0    2.0   0.0  \n",
       "3        0.0            2.0    4.4   1.0  \n",
       "4        0.0            2.0    2.0   0.0  \n",
       "..       ...            ...    ...   ...  \n",
       "768      0.0            2.0    2.0   0.0  \n",
       "769      0.0            2.0    2.0   0.0  \n",
       "770      0.0            2.0    2.0   0.0  \n",
       "771      0.0            2.0    2.0   0.0  \n",
       "772      0.0            2.0    2.0   0.0  \n",
       "\n",
       "[773 rows x 18 columns]>"
      ]
     },
     "execution_count": 14,
     "metadata": {},
     "output_type": "execute_result"
    }
   ],
   "source": [
    "audit.describe #after missing data"
   ]
  },
  {
   "cell_type": "markdown",
   "id": "a1f57c11",
   "metadata": {},
   "source": []
  },
  {
   "cell_type": "code",
   "execution_count": null,
   "id": "187a4c26",
   "metadata": {},
   "outputs": [],
   "source": []
  },
  {
   "cell_type": "markdown",
   "id": "08d2ad5c",
   "metadata": {},
   "source": [
    "# Coorelation Matrix"
   ]
  },
  {
   "cell_type": "code",
   "execution_count": 15,
   "id": "e1646f4d",
   "metadata": {},
   "outputs": [
    {
     "data": {
      "text/html": [
       "<div>\n",
       "<style scoped>\n",
       "    .dataframe tbody tr th:only-of-type {\n",
       "        vertical-align: middle;\n",
       "    }\n",
       "\n",
       "    .dataframe tbody tr th {\n",
       "        vertical-align: top;\n",
       "    }\n",
       "\n",
       "    .dataframe thead th {\n",
       "        text-align: right;\n",
       "    }\n",
       "</style>\n",
       "<table border=\"1\" class=\"dataframe\">\n",
       "  <thead>\n",
       "    <tr style=\"text-align: right;\">\n",
       "      <th></th>\n",
       "      <th>Sector_score</th>\n",
       "      <th>LOCATION_ID</th>\n",
       "      <th>PARA_A</th>\n",
       "      <th>SCORE_A</th>\n",
       "      <th>PARA_B</th>\n",
       "      <th>SCORE_B</th>\n",
       "      <th>TOTAL</th>\n",
       "      <th>numbers</th>\n",
       "      <th>Marks</th>\n",
       "      <th>Money_Value</th>\n",
       "      <th>MONEY_Marks</th>\n",
       "      <th>District</th>\n",
       "      <th>Loss</th>\n",
       "      <th>LOSS_SCORE</th>\n",
       "      <th>History</th>\n",
       "      <th>History_score</th>\n",
       "      <th>Score</th>\n",
       "      <th>Risk</th>\n",
       "    </tr>\n",
       "  </thead>\n",
       "  <tbody>\n",
       "    <tr>\n",
       "      <th>Sector_score</th>\n",
       "      <td>1.000000</td>\n",
       "      <td>-0.059436</td>\n",
       "      <td>-0.218142</td>\n",
       "      <td>-0.428821</td>\n",
       "      <td>-0.133454</td>\n",
       "      <td>-0.221336</td>\n",
       "      <td>-0.154227</td>\n",
       "      <td>-0.152769</td>\n",
       "      <td>-0.171478</td>\n",
       "      <td>-0.118560</td>\n",
       "      <td>-0.321118</td>\n",
       "      <td>-0.109553</td>\n",
       "      <td>-0.083716</td>\n",
       "      <td>-0.087329</td>\n",
       "      <td>-0.115503</td>\n",
       "      <td>-0.137783</td>\n",
       "      <td>-0.340517</td>\n",
       "      <td>-0.379999</td>\n",
       "    </tr>\n",
       "    <tr>\n",
       "      <th>LOCATION_ID</th>\n",
       "      <td>-0.059436</td>\n",
       "      <td>1.000000</td>\n",
       "      <td>-0.004230</td>\n",
       "      <td>0.083520</td>\n",
       "      <td>0.007778</td>\n",
       "      <td>0.128354</td>\n",
       "      <td>0.007929</td>\n",
       "      <td>0.008175</td>\n",
       "      <td>-0.015875</td>\n",
       "      <td>-0.065037</td>\n",
       "      <td>0.109984</td>\n",
       "      <td>-0.107445</td>\n",
       "      <td>0.007308</td>\n",
       "      <td>-0.002477</td>\n",
       "      <td>-0.080336</td>\n",
       "      <td>-0.052554</td>\n",
       "      <td>0.090917</td>\n",
       "      <td>0.048700</td>\n",
       "    </tr>\n",
       "    <tr>\n",
       "      <th>PARA_A</th>\n",
       "      <td>-0.218142</td>\n",
       "      <td>-0.004230</td>\n",
       "      <td>1.000000</td>\n",
       "      <td>0.496336</td>\n",
       "      <td>0.161698</td>\n",
       "      <td>0.358031</td>\n",
       "      <td>0.266797</td>\n",
       "      <td>0.133484</td>\n",
       "      <td>0.140300</td>\n",
       "      <td>0.449230</td>\n",
       "      <td>0.285458</td>\n",
       "      <td>0.127312</td>\n",
       "      <td>0.045185</td>\n",
       "      <td>0.043494</td>\n",
       "      <td>0.118047</td>\n",
       "      <td>0.172358</td>\n",
       "      <td>0.426194</td>\n",
       "      <td>0.291669</td>\n",
       "    </tr>\n",
       "    <tr>\n",
       "      <th>SCORE_A</th>\n",
       "      <td>-0.428821</td>\n",
       "      <td>0.083520</td>\n",
       "      <td>0.496336</td>\n",
       "      <td>1.000000</td>\n",
       "      <td>0.249098</td>\n",
       "      <td>0.571737</td>\n",
       "      <td>0.297179</td>\n",
       "      <td>0.242214</td>\n",
       "      <td>0.274047</td>\n",
       "      <td>0.205883</td>\n",
       "      <td>0.477955</td>\n",
       "      <td>0.087431</td>\n",
       "      <td>0.092943</td>\n",
       "      <td>0.093232</td>\n",
       "      <td>0.177542</td>\n",
       "      <td>0.264910</td>\n",
       "      <td>0.719718</td>\n",
       "      <td>0.670660</td>\n",
       "    </tr>\n",
       "    <tr>\n",
       "      <th>PARA_B</th>\n",
       "      <td>-0.133454</td>\n",
       "      <td>0.007778</td>\n",
       "      <td>0.161698</td>\n",
       "      <td>0.249098</td>\n",
       "      <td>1.000000</td>\n",
       "      <td>0.347341</td>\n",
       "      <td>0.994101</td>\n",
       "      <td>0.209687</td>\n",
       "      <td>0.230663</td>\n",
       "      <td>0.124933</td>\n",
       "      <td>0.314297</td>\n",
       "      <td>0.082634</td>\n",
       "      <td>0.044685</td>\n",
       "      <td>0.042419</td>\n",
       "      <td>0.203451</td>\n",
       "      <td>0.316400</td>\n",
       "      <td>0.397022</td>\n",
       "      <td>0.162267</td>\n",
       "    </tr>\n",
       "    <tr>\n",
       "      <th>SCORE_B</th>\n",
       "      <td>-0.221336</td>\n",
       "      <td>0.128354</td>\n",
       "      <td>0.358031</td>\n",
       "      <td>0.571737</td>\n",
       "      <td>0.347341</td>\n",
       "      <td>1.000000</td>\n",
       "      <td>0.379064</td>\n",
       "      <td>0.277188</td>\n",
       "      <td>0.313357</td>\n",
       "      <td>0.204915</td>\n",
       "      <td>0.566963</td>\n",
       "      <td>-0.005726</td>\n",
       "      <td>0.098543</td>\n",
       "      <td>0.092224</td>\n",
       "      <td>0.200520</td>\n",
       "      <td>0.309170</td>\n",
       "      <td>0.901107</td>\n",
       "      <td>0.513811</td>\n",
       "    </tr>\n",
       "    <tr>\n",
       "      <th>TOTAL</th>\n",
       "      <td>-0.154227</td>\n",
       "      <td>0.007929</td>\n",
       "      <td>0.266797</td>\n",
       "      <td>0.297179</td>\n",
       "      <td>0.994101</td>\n",
       "      <td>0.379064</td>\n",
       "      <td>1.000000</td>\n",
       "      <td>0.217448</td>\n",
       "      <td>0.238020</td>\n",
       "      <td>0.168561</td>\n",
       "      <td>0.337169</td>\n",
       "      <td>0.092985</td>\n",
       "      <td>0.048716</td>\n",
       "      <td>0.046319</td>\n",
       "      <td>0.210603</td>\n",
       "      <td>0.326236</td>\n",
       "      <td>0.433653</td>\n",
       "      <td>0.190184</td>\n",
       "    </tr>\n",
       "    <tr>\n",
       "      <th>numbers</th>\n",
       "      <td>-0.152769</td>\n",
       "      <td>0.008175</td>\n",
       "      <td>0.133484</td>\n",
       "      <td>0.242214</td>\n",
       "      <td>0.209687</td>\n",
       "      <td>0.277188</td>\n",
       "      <td>0.217448</td>\n",
       "      <td>1.000000</td>\n",
       "      <td>0.908115</td>\n",
       "      <td>0.186078</td>\n",
       "      <td>0.446438</td>\n",
       "      <td>0.124658</td>\n",
       "      <td>-0.001644</td>\n",
       "      <td>0.035650</td>\n",
       "      <td>0.202173</td>\n",
       "      <td>0.209405</td>\n",
       "      <td>0.502731</td>\n",
       "      <td>0.197131</td>\n",
       "    </tr>\n",
       "    <tr>\n",
       "      <th>Marks</th>\n",
       "      <td>-0.171478</td>\n",
       "      <td>-0.015875</td>\n",
       "      <td>0.140300</td>\n",
       "      <td>0.274047</td>\n",
       "      <td>0.230663</td>\n",
       "      <td>0.313357</td>\n",
       "      <td>0.238020</td>\n",
       "      <td>0.908115</td>\n",
       "      <td>1.000000</td>\n",
       "      <td>0.220229</td>\n",
       "      <td>0.507001</td>\n",
       "      <td>0.149972</td>\n",
       "      <td>0.004578</td>\n",
       "      <td>0.036718</td>\n",
       "      <td>0.226007</td>\n",
       "      <td>0.248212</td>\n",
       "      <td>0.565870</td>\n",
       "      <td>0.227394</td>\n",
       "    </tr>\n",
       "    <tr>\n",
       "      <th>Money_Value</th>\n",
       "      <td>-0.118560</td>\n",
       "      <td>-0.065037</td>\n",
       "      <td>0.449230</td>\n",
       "      <td>0.205883</td>\n",
       "      <td>0.124933</td>\n",
       "      <td>0.204915</td>\n",
       "      <td>0.168561</td>\n",
       "      <td>0.186078</td>\n",
       "      <td>0.220229</td>\n",
       "      <td>1.000000</td>\n",
       "      <td>0.391257</td>\n",
       "      <td>0.028021</td>\n",
       "      <td>0.024449</td>\n",
       "      <td>0.031697</td>\n",
       "      <td>0.079984</td>\n",
       "      <td>0.112068</td>\n",
       "      <td>0.291646</td>\n",
       "      <td>0.160388</td>\n",
       "    </tr>\n",
       "    <tr>\n",
       "      <th>MONEY_Marks</th>\n",
       "      <td>-0.321118</td>\n",
       "      <td>0.109984</td>\n",
       "      <td>0.285458</td>\n",
       "      <td>0.477955</td>\n",
       "      <td>0.314297</td>\n",
       "      <td>0.566963</td>\n",
       "      <td>0.337169</td>\n",
       "      <td>0.446438</td>\n",
       "      <td>0.507001</td>\n",
       "      <td>0.391257</td>\n",
       "      <td>1.000000</td>\n",
       "      <td>0.080265</td>\n",
       "      <td>0.118399</td>\n",
       "      <td>0.129645</td>\n",
       "      <td>0.246620</td>\n",
       "      <td>0.334419</td>\n",
       "      <td>0.757980</td>\n",
       "      <td>0.439069</td>\n",
       "    </tr>\n",
       "    <tr>\n",
       "      <th>District</th>\n",
       "      <td>-0.109553</td>\n",
       "      <td>-0.107445</td>\n",
       "      <td>0.127312</td>\n",
       "      <td>0.087431</td>\n",
       "      <td>0.082634</td>\n",
       "      <td>-0.005726</td>\n",
       "      <td>0.092985</td>\n",
       "      <td>0.124658</td>\n",
       "      <td>0.149972</td>\n",
       "      <td>0.028021</td>\n",
       "      <td>0.080265</td>\n",
       "      <td>1.000000</td>\n",
       "      <td>0.036123</td>\n",
       "      <td>0.055062</td>\n",
       "      <td>0.069093</td>\n",
       "      <td>0.083565</td>\n",
       "      <td>0.209564</td>\n",
       "      <td>0.316864</td>\n",
       "    </tr>\n",
       "    <tr>\n",
       "      <th>Loss</th>\n",
       "      <td>-0.083716</td>\n",
       "      <td>0.007308</td>\n",
       "      <td>0.045185</td>\n",
       "      <td>0.092943</td>\n",
       "      <td>0.044685</td>\n",
       "      <td>0.098543</td>\n",
       "      <td>0.048716</td>\n",
       "      <td>-0.001644</td>\n",
       "      <td>0.004578</td>\n",
       "      <td>0.024449</td>\n",
       "      <td>0.118399</td>\n",
       "      <td>0.036123</td>\n",
       "      <td>1.000000</td>\n",
       "      <td>0.981508</td>\n",
       "      <td>0.060528</td>\n",
       "      <td>0.104367</td>\n",
       "      <td>0.156551</td>\n",
       "      <td>0.123924</td>\n",
       "    </tr>\n",
       "    <tr>\n",
       "      <th>LOSS_SCORE</th>\n",
       "      <td>-0.087329</td>\n",
       "      <td>-0.002477</td>\n",
       "      <td>0.043494</td>\n",
       "      <td>0.093232</td>\n",
       "      <td>0.042419</td>\n",
       "      <td>0.092224</td>\n",
       "      <td>0.046319</td>\n",
       "      <td>0.035650</td>\n",
       "      <td>0.036718</td>\n",
       "      <td>0.031697</td>\n",
       "      <td>0.129645</td>\n",
       "      <td>0.055062</td>\n",
       "      <td>0.981508</td>\n",
       "      <td>1.000000</td>\n",
       "      <td>0.109951</td>\n",
       "      <td>0.141337</td>\n",
       "      <td>0.167424</td>\n",
       "      <td>0.127064</td>\n",
       "    </tr>\n",
       "    <tr>\n",
       "      <th>History</th>\n",
       "      <td>-0.115503</td>\n",
       "      <td>-0.080336</td>\n",
       "      <td>0.118047</td>\n",
       "      <td>0.177542</td>\n",
       "      <td>0.203451</td>\n",
       "      <td>0.200520</td>\n",
       "      <td>0.210603</td>\n",
       "      <td>0.202173</td>\n",
       "      <td>0.226007</td>\n",
       "      <td>0.079984</td>\n",
       "      <td>0.246620</td>\n",
       "      <td>0.069093</td>\n",
       "      <td>0.060528</td>\n",
       "      <td>0.109951</td>\n",
       "      <td>1.000000</td>\n",
       "      <td>0.859274</td>\n",
       "      <td>0.325976</td>\n",
       "      <td>0.151454</td>\n",
       "    </tr>\n",
       "    <tr>\n",
       "      <th>History_score</th>\n",
       "      <td>-0.137783</td>\n",
       "      <td>-0.052554</td>\n",
       "      <td>0.172358</td>\n",
       "      <td>0.264910</td>\n",
       "      <td>0.316400</td>\n",
       "      <td>0.309170</td>\n",
       "      <td>0.326236</td>\n",
       "      <td>0.209405</td>\n",
       "      <td>0.248212</td>\n",
       "      <td>0.112068</td>\n",
       "      <td>0.334419</td>\n",
       "      <td>0.083565</td>\n",
       "      <td>0.104367</td>\n",
       "      <td>0.141337</td>\n",
       "      <td>0.859274</td>\n",
       "      <td>1.000000</td>\n",
       "      <td>0.443240</td>\n",
       "      <td>0.189868</td>\n",
       "    </tr>\n",
       "    <tr>\n",
       "      <th>Score</th>\n",
       "      <td>-0.340517</td>\n",
       "      <td>0.090917</td>\n",
       "      <td>0.426194</td>\n",
       "      <td>0.719718</td>\n",
       "      <td>0.397022</td>\n",
       "      <td>0.901107</td>\n",
       "      <td>0.433653</td>\n",
       "      <td>0.502731</td>\n",
       "      <td>0.565870</td>\n",
       "      <td>0.291646</td>\n",
       "      <td>0.757980</td>\n",
       "      <td>0.209564</td>\n",
       "      <td>0.156551</td>\n",
       "      <td>0.167424</td>\n",
       "      <td>0.325976</td>\n",
       "      <td>0.443240</td>\n",
       "      <td>1.000000</td>\n",
       "      <td>0.631029</td>\n",
       "    </tr>\n",
       "    <tr>\n",
       "      <th>Risk</th>\n",
       "      <td>-0.379999</td>\n",
       "      <td>0.048700</td>\n",
       "      <td>0.291669</td>\n",
       "      <td>0.670660</td>\n",
       "      <td>0.162267</td>\n",
       "      <td>0.513811</td>\n",
       "      <td>0.190184</td>\n",
       "      <td>0.197131</td>\n",
       "      <td>0.227394</td>\n",
       "      <td>0.160388</td>\n",
       "      <td>0.439069</td>\n",
       "      <td>0.316864</td>\n",
       "      <td>0.123924</td>\n",
       "      <td>0.127064</td>\n",
       "      <td>0.151454</td>\n",
       "      <td>0.189868</td>\n",
       "      <td>0.631029</td>\n",
       "      <td>1.000000</td>\n",
       "    </tr>\n",
       "  </tbody>\n",
       "</table>\n",
       "</div>"
      ],
      "text/plain": [
       "               Sector_score  LOCATION_ID    PARA_A   SCORE_A    PARA_B  \\\n",
       "Sector_score       1.000000    -0.059436 -0.218142 -0.428821 -0.133454   \n",
       "LOCATION_ID       -0.059436     1.000000 -0.004230  0.083520  0.007778   \n",
       "PARA_A            -0.218142    -0.004230  1.000000  0.496336  0.161698   \n",
       "SCORE_A           -0.428821     0.083520  0.496336  1.000000  0.249098   \n",
       "PARA_B            -0.133454     0.007778  0.161698  0.249098  1.000000   \n",
       "SCORE_B           -0.221336     0.128354  0.358031  0.571737  0.347341   \n",
       "TOTAL             -0.154227     0.007929  0.266797  0.297179  0.994101   \n",
       "numbers           -0.152769     0.008175  0.133484  0.242214  0.209687   \n",
       "Marks             -0.171478    -0.015875  0.140300  0.274047  0.230663   \n",
       "Money_Value       -0.118560    -0.065037  0.449230  0.205883  0.124933   \n",
       "MONEY_Marks       -0.321118     0.109984  0.285458  0.477955  0.314297   \n",
       "District          -0.109553    -0.107445  0.127312  0.087431  0.082634   \n",
       "Loss              -0.083716     0.007308  0.045185  0.092943  0.044685   \n",
       "LOSS_SCORE        -0.087329    -0.002477  0.043494  0.093232  0.042419   \n",
       "History           -0.115503    -0.080336  0.118047  0.177542  0.203451   \n",
       "History_score     -0.137783    -0.052554  0.172358  0.264910  0.316400   \n",
       "Score             -0.340517     0.090917  0.426194  0.719718  0.397022   \n",
       "Risk              -0.379999     0.048700  0.291669  0.670660  0.162267   \n",
       "\n",
       "                SCORE_B     TOTAL   numbers     Marks  Money_Value  \\\n",
       "Sector_score  -0.221336 -0.154227 -0.152769 -0.171478    -0.118560   \n",
       "LOCATION_ID    0.128354  0.007929  0.008175 -0.015875    -0.065037   \n",
       "PARA_A         0.358031  0.266797  0.133484  0.140300     0.449230   \n",
       "SCORE_A        0.571737  0.297179  0.242214  0.274047     0.205883   \n",
       "PARA_B         0.347341  0.994101  0.209687  0.230663     0.124933   \n",
       "SCORE_B        1.000000  0.379064  0.277188  0.313357     0.204915   \n",
       "TOTAL          0.379064  1.000000  0.217448  0.238020     0.168561   \n",
       "numbers        0.277188  0.217448  1.000000  0.908115     0.186078   \n",
       "Marks          0.313357  0.238020  0.908115  1.000000     0.220229   \n",
       "Money_Value    0.204915  0.168561  0.186078  0.220229     1.000000   \n",
       "MONEY_Marks    0.566963  0.337169  0.446438  0.507001     0.391257   \n",
       "District      -0.005726  0.092985  0.124658  0.149972     0.028021   \n",
       "Loss           0.098543  0.048716 -0.001644  0.004578     0.024449   \n",
       "LOSS_SCORE     0.092224  0.046319  0.035650  0.036718     0.031697   \n",
       "History        0.200520  0.210603  0.202173  0.226007     0.079984   \n",
       "History_score  0.309170  0.326236  0.209405  0.248212     0.112068   \n",
       "Score          0.901107  0.433653  0.502731  0.565870     0.291646   \n",
       "Risk           0.513811  0.190184  0.197131  0.227394     0.160388   \n",
       "\n",
       "               MONEY_Marks  District      Loss  LOSS_SCORE   History  \\\n",
       "Sector_score     -0.321118 -0.109553 -0.083716   -0.087329 -0.115503   \n",
       "LOCATION_ID       0.109984 -0.107445  0.007308   -0.002477 -0.080336   \n",
       "PARA_A            0.285458  0.127312  0.045185    0.043494  0.118047   \n",
       "SCORE_A           0.477955  0.087431  0.092943    0.093232  0.177542   \n",
       "PARA_B            0.314297  0.082634  0.044685    0.042419  0.203451   \n",
       "SCORE_B           0.566963 -0.005726  0.098543    0.092224  0.200520   \n",
       "TOTAL             0.337169  0.092985  0.048716    0.046319  0.210603   \n",
       "numbers           0.446438  0.124658 -0.001644    0.035650  0.202173   \n",
       "Marks             0.507001  0.149972  0.004578    0.036718  0.226007   \n",
       "Money_Value       0.391257  0.028021  0.024449    0.031697  0.079984   \n",
       "MONEY_Marks       1.000000  0.080265  0.118399    0.129645  0.246620   \n",
       "District          0.080265  1.000000  0.036123    0.055062  0.069093   \n",
       "Loss              0.118399  0.036123  1.000000    0.981508  0.060528   \n",
       "LOSS_SCORE        0.129645  0.055062  0.981508    1.000000  0.109951   \n",
       "History           0.246620  0.069093  0.060528    0.109951  1.000000   \n",
       "History_score     0.334419  0.083565  0.104367    0.141337  0.859274   \n",
       "Score             0.757980  0.209564  0.156551    0.167424  0.325976   \n",
       "Risk              0.439069  0.316864  0.123924    0.127064  0.151454   \n",
       "\n",
       "               History_score     Score      Risk  \n",
       "Sector_score       -0.137783 -0.340517 -0.379999  \n",
       "LOCATION_ID        -0.052554  0.090917  0.048700  \n",
       "PARA_A              0.172358  0.426194  0.291669  \n",
       "SCORE_A             0.264910  0.719718  0.670660  \n",
       "PARA_B              0.316400  0.397022  0.162267  \n",
       "SCORE_B             0.309170  0.901107  0.513811  \n",
       "TOTAL               0.326236  0.433653  0.190184  \n",
       "numbers             0.209405  0.502731  0.197131  \n",
       "Marks               0.248212  0.565870  0.227394  \n",
       "Money_Value         0.112068  0.291646  0.160388  \n",
       "MONEY_Marks         0.334419  0.757980  0.439069  \n",
       "District            0.083565  0.209564  0.316864  \n",
       "Loss                0.104367  0.156551  0.123924  \n",
       "LOSS_SCORE          0.141337  0.167424  0.127064  \n",
       "History             0.859274  0.325976  0.151454  \n",
       "History_score       1.000000  0.443240  0.189868  \n",
       "Score               0.443240  1.000000  0.631029  \n",
       "Risk                0.189868  0.631029  1.000000  "
      ]
     },
     "execution_count": 15,
     "metadata": {},
     "output_type": "execute_result"
    }
   ],
   "source": [
    "audit.corr()"
   ]
  },
  {
   "cell_type": "code",
   "execution_count": 16,
   "id": "aeb4ef5e",
   "metadata": {},
   "outputs": [],
   "source": [
    "%matplotlib inline"
   ]
  },
  {
   "cell_type": "code",
   "execution_count": 17,
   "id": "15eb1501",
   "metadata": {},
   "outputs": [
    {
     "data": {
      "text/plain": [
       "array([[<AxesSubplot:title={'center':'Sector_score'}>,\n",
       "        <AxesSubplot:title={'center':'LOCATION_ID'}>,\n",
       "        <AxesSubplot:title={'center':'PARA_A'}>,\n",
       "        <AxesSubplot:title={'center':'SCORE_A'}>],\n",
       "       [<AxesSubplot:title={'center':'PARA_B'}>,\n",
       "        <AxesSubplot:title={'center':'SCORE_B'}>,\n",
       "        <AxesSubplot:title={'center':'TOTAL'}>,\n",
       "        <AxesSubplot:title={'center':'numbers'}>],\n",
       "       [<AxesSubplot:title={'center':'Marks'}>,\n",
       "        <AxesSubplot:title={'center':'Money_Value'}>,\n",
       "        <AxesSubplot:title={'center':'MONEY_Marks'}>,\n",
       "        <AxesSubplot:title={'center':'District'}>],\n",
       "       [<AxesSubplot:title={'center':'Loss'}>,\n",
       "        <AxesSubplot:title={'center':'LOSS_SCORE'}>,\n",
       "        <AxesSubplot:title={'center':'History'}>,\n",
       "        <AxesSubplot:title={'center':'History_score'}>],\n",
       "       [<AxesSubplot:title={'center':'Score'}>,\n",
       "        <AxesSubplot:title={'center':'Risk'}>, <AxesSubplot:>,\n",
       "        <AxesSubplot:>]], dtype=object)"
      ]
     },
     "execution_count": 17,
     "metadata": {},
     "output_type": "execute_result"
    },
    {
     "data": {
      "image/png": "[encoded data removed]",
      "text/plain": [
       "<Figure size 1440x1080 with 20 Axes>"
      ]
     },
     "metadata": {
      "needs_background": "light"
     },
     "output_type": "display_data"
    }
   ],
   "source": [
    "\n",
    "import matplotlib.pyplot as plt\n",
    "audit.hist(bins=50, figsize=(20, 15))"
   ]
  },
  {
   "cell_type": "code",
   "execution_count": 18,
   "id": "38b535f4",
   "metadata": {},
   "outputs": [
    {
     "data": {
      "text/plain": [
       "<AxesSubplot:>"
      ]
     },
     "execution_count": 18,
     "metadata": {},
     "output_type": "execute_result"
    },
    {
     "data": {
      "image/png": "[encoded data removed]",
      "text/plain": [
       "<Figure size 1440x720 with 2 Axes>"
      ]
     },
     "metadata": {
      "needs_background": "light"
     },
     "output_type": "display_data"
    }
   ],
   "source": [
    "corr = audit.corr()\n",
    "fig, ax = plt.subplots(figsize=(20,10))\n",
    "sns.heatmap(corr, annot=True, ax=ax, cmap = 'coolwarm')"
   ]
  },
  {
   "cell_type": "markdown",
   "id": "ad9468f0",
   "metadata": {},
   "source": [
    "# Level Encoder"
   ]
  },
  {
   "cell_type": "code",
   "execution_count": 19,
   "id": "d644a866",
   "metadata": {},
   "outputs": [],
   "source": [
    "from sklearn.preprocessing import LabelEncoder\n",
    "le = LabelEncoder()"
   ]
  },
  {
   "cell_type": "code",
   "execution_count": 20,
   "id": "c32f61de",
   "metadata": {},
   "outputs": [
    {
     "data": {
      "text/html": [
       "<div>\n",
       "<style scoped>\n",
       "    .dataframe tbody tr th:only-of-type {\n",
       "        vertical-align: middle;\n",
       "    }\n",
       "\n",
       "    .dataframe tbody tr th {\n",
       "        vertical-align: top;\n",
       "    }\n",
       "\n",
       "    .dataframe thead th {\n",
       "        text-align: right;\n",
       "    }\n",
       "</style>\n",
       "<table border=\"1\" class=\"dataframe\">\n",
       "  <thead>\n",
       "    <tr style=\"text-align: right;\">\n",
       "      <th></th>\n",
       "      <th>Sector_score</th>\n",
       "      <th>LOCATION_ID</th>\n",
       "      <th>PARA_A</th>\n",
       "      <th>SCORE_A</th>\n",
       "      <th>PARA_B</th>\n",
       "      <th>SCORE_B</th>\n",
       "      <th>TOTAL</th>\n",
       "      <th>numbers</th>\n",
       "      <th>Marks</th>\n",
       "      <th>Money_Value</th>\n",
       "      <th>MONEY_Marks</th>\n",
       "      <th>District</th>\n",
       "      <th>Loss</th>\n",
       "      <th>LOSS_SCORE</th>\n",
       "      <th>History</th>\n",
       "      <th>History_score</th>\n",
       "      <th>Score</th>\n",
       "      <th>Risk</th>\n",
       "    </tr>\n",
       "  </thead>\n",
       "  <tbody>\n",
       "    <tr>\n",
       "      <th>0</th>\n",
       "      <td>3.89</td>\n",
       "      <td>23.0</td>\n",
       "      <td>4.18</td>\n",
       "      <td>6.0</td>\n",
       "      <td>2.50</td>\n",
       "      <td>2.0</td>\n",
       "      <td>6.68</td>\n",
       "      <td>5.0</td>\n",
       "      <td>2.0</td>\n",
       "      <td>3.38</td>\n",
       "      <td>2.0</td>\n",
       "      <td>2.0</td>\n",
       "      <td>0.0</td>\n",
       "      <td>2.0</td>\n",
       "      <td>0.0</td>\n",
       "      <td>2.0</td>\n",
       "      <td>2.4</td>\n",
       "      <td>1</td>\n",
       "    </tr>\n",
       "    <tr>\n",
       "      <th>1</th>\n",
       "      <td>3.89</td>\n",
       "      <td>6.0</td>\n",
       "      <td>0.00</td>\n",
       "      <td>2.0</td>\n",
       "      <td>4.83</td>\n",
       "      <td>2.0</td>\n",
       "      <td>4.83</td>\n",
       "      <td>5.0</td>\n",
       "      <td>2.0</td>\n",
       "      <td>0.94</td>\n",
       "      <td>2.0</td>\n",
       "      <td>2.0</td>\n",
       "      <td>0.0</td>\n",
       "      <td>2.0</td>\n",
       "      <td>0.0</td>\n",
       "      <td>2.0</td>\n",
       "      <td>2.0</td>\n",
       "      <td>0</td>\n",
       "    </tr>\n",
       "    <tr>\n",
       "      <th>2</th>\n",
       "      <td>3.89</td>\n",
       "      <td>6.0</td>\n",
       "      <td>0.51</td>\n",
       "      <td>2.0</td>\n",
       "      <td>0.23</td>\n",
       "      <td>2.0</td>\n",
       "      <td>0.74</td>\n",
       "      <td>5.0</td>\n",
       "      <td>2.0</td>\n",
       "      <td>0.00</td>\n",
       "      <td>2.0</td>\n",
       "      <td>2.0</td>\n",
       "      <td>0.0</td>\n",
       "      <td>2.0</td>\n",
       "      <td>0.0</td>\n",
       "      <td>2.0</td>\n",
       "      <td>2.0</td>\n",
       "      <td>0</td>\n",
       "    </tr>\n",
       "    <tr>\n",
       "      <th>3</th>\n",
       "      <td>3.89</td>\n",
       "      <td>6.0</td>\n",
       "      <td>0.00</td>\n",
       "      <td>2.0</td>\n",
       "      <td>10.80</td>\n",
       "      <td>6.0</td>\n",
       "      <td>10.80</td>\n",
       "      <td>6.0</td>\n",
       "      <td>6.0</td>\n",
       "      <td>11.75</td>\n",
       "      <td>6.0</td>\n",
       "      <td>2.0</td>\n",
       "      <td>0.0</td>\n",
       "      <td>2.0</td>\n",
       "      <td>0.0</td>\n",
       "      <td>2.0</td>\n",
       "      <td>4.4</td>\n",
       "      <td>1</td>\n",
       "    </tr>\n",
       "    <tr>\n",
       "      <th>4</th>\n",
       "      <td>3.89</td>\n",
       "      <td>6.0</td>\n",
       "      <td>0.00</td>\n",
       "      <td>2.0</td>\n",
       "      <td>0.08</td>\n",
       "      <td>2.0</td>\n",
       "      <td>0.08</td>\n",
       "      <td>5.0</td>\n",
       "      <td>2.0</td>\n",
       "      <td>0.00</td>\n",
       "      <td>2.0</td>\n",
       "      <td>2.0</td>\n",
       "      <td>0.0</td>\n",
       "      <td>2.0</td>\n",
       "      <td>0.0</td>\n",
       "      <td>2.0</td>\n",
       "      <td>2.0</td>\n",
       "      <td>0</td>\n",
       "    </tr>\n",
       "  </tbody>\n",
       "</table>\n",
       "</div>"
      ],
      "text/plain": [
       "   Sector_score  LOCATION_ID  PARA_A  SCORE_A  PARA_B  SCORE_B  TOTAL  \\\n",
       "0          3.89         23.0    4.18      6.0    2.50      2.0   6.68   \n",
       "1          3.89          6.0    0.00      2.0    4.83      2.0   4.83   \n",
       "2          3.89          6.0    0.51      2.0    0.23      2.0   0.74   \n",
       "3          3.89          6.0    0.00      2.0   10.80      6.0  10.80   \n",
       "4          3.89          6.0    0.00      2.0    0.08      2.0   0.08   \n",
       "\n",
       "   numbers  Marks  Money_Value  MONEY_Marks  District  Loss  LOSS_SCORE  \\\n",
       "0      5.0    2.0         3.38          2.0       2.0   0.0         2.0   \n",
       "1      5.0    2.0         0.94          2.0       2.0   0.0         2.0   \n",
       "2      5.0    2.0         0.00          2.0       2.0   0.0         2.0   \n",
       "3      6.0    6.0        11.75          6.0       2.0   0.0         2.0   \n",
       "4      5.0    2.0         0.00          2.0       2.0   0.0         2.0   \n",
       "\n",
       "   History  History_score  Score  Risk  \n",
       "0      0.0            2.0    2.4     1  \n",
       "1      0.0            2.0    2.0     0  \n",
       "2      0.0            2.0    2.0     0  \n",
       "3      0.0            2.0    4.4     1  \n",
       "4      0.0            2.0    2.0     0  "
      ]
     },
     "execution_count": 20,
     "metadata": {},
     "output_type": "execute_result"
    }
   ],
   "source": [
    "audit['Risk'] = le.fit_transform(audit['Risk'])\n",
    "audit.head()"
   ]
  },
  {
   "cell_type": "markdown",
   "id": "bfc6dc3d",
   "metadata": {},
   "source": [
    "## Train and split Data"
   ]
  },
  {
   "cell_type": "code",
   "execution_count": 21,
   "id": "17a333be",
   "metadata": {},
   "outputs": [],
   "source": [
    "from sklearn.model_selection import train_test_split\n",
    "# train - 70\n",
    "# test - 30\n",
    "X = audit.drop(columns=['Risk'])\n",
    "Y = audit['Risk']\n",
    "x_train, x_test, y_train, y_test = train_test_split(X, Y, test_size=0.30)"
   ]
  },
  {
   "cell_type": "markdown",
   "id": "142e1959",
   "metadata": {},
   "source": [
    "## LogisticRegression"
   ]
  },
  {
   "cell_type": "code",
   "execution_count": 22,
   "id": "157b1d0f",
   "metadata": {},
   "outputs": [],
   "source": [
    "# logistic regression \n",
    "from sklearn.linear_model import LogisticRegression\n",
    "model = LogisticRegression()"
   ]
  },
  {
   "cell_type": "code",
   "execution_count": 23,
   "id": "e7ba8a05",
   "metadata": {},
   "outputs": [
    {
     "name": "stderr",
     "output_type": "stream",
     "text": [
      "c:\\users\\user\\appdata\\local\\programs\\python\\python39\\lib\\site-packages\\sklearn\\linear_model\\_logistic.py:763: ConvergenceWarning: lbfgs failed to converge (status=1):\n",
      "STOP: TOTAL NO. of ITERATIONS REACHED LIMIT.\n",
      "\n",
      "Increase the number of iterations (max_iter) or scale the data as shown in:\n",
      "    https://scikit-learn.org/stable/modules/preprocessing.html\n",
      "Please also refer to the documentation for alternative solver options:\n",
      "    https://scikit-learn.org/stable/modules/linear_model.html#logistic-regression\n",
      "  n_iter_i = _check_optimize_result(\n"
     ]
    },
    {
     "data": {
      "text/plain": [
       "LogisticRegression()"
      ]
     },
     "execution_count": 23,
     "metadata": {},
     "output_type": "execute_result"
    }
   ],
   "source": [
    "model.fit(x_train, y_train)"
   ]
  },
  {
   "cell_type": "code",
   "execution_count": 24,
   "id": "0f20bfdb",
   "metadata": {},
   "outputs": [
    {
     "name": "stdout",
     "output_type": "stream",
     "text": [
      "Accuracy:  99.13793103448276\n"
     ]
    }
   ],
   "source": [
    "# print metric to get performance\n",
    "print(\"Accuracy: \",model.score(x_test, y_test) * 100)"
   ]
  },
  {
   "cell_type": "markdown",
   "id": "993c75b2",
   "metadata": {},
   "source": [
    "## KNN"
   ]
  },
  {
   "cell_type": "code",
   "execution_count": 25,
   "id": "dcadaa35",
   "metadata": {},
   "outputs": [],
   "source": [
    "from sklearn.neighbors import KNeighborsClassifier\n",
    "model = KNeighborsClassifier()"
   ]
  },
  {
   "cell_type": "code",
   "execution_count": 26,
   "id": "7d5c55d5",
   "metadata": {},
   "outputs": [
    {
     "data": {
      "text/plain": [
       "KNeighborsClassifier()"
      ]
     },
     "execution_count": 26,
     "metadata": {},
     "output_type": "execute_result"
    }
   ],
   "source": [
    "model.fit(x_train, y_train)"
   ]
  },
  {
   "cell_type": "code",
   "execution_count": 27,
   "id": "f36cd0cc",
   "metadata": {},
   "outputs": [
    {
     "name": "stdout",
     "output_type": "stream",
     "text": [
      "Accuracy:  92.24137931034483\n"
     ]
    }
   ],
   "source": [
    "print(\"Accuracy: \",model.score(x_test, y_test) * 100)"
   ]
  },
  {
   "cell_type": "markdown",
   "id": "2c96c9e9",
   "metadata": {},
   "source": [
    "##  Decision tree"
   ]
  },
  {
   "cell_type": "code",
   "execution_count": 28,
   "id": "7100aac3",
   "metadata": {},
   "outputs": [],
   "source": [
    "from sklearn.tree import DecisionTreeClassifier\n",
    "model = DecisionTreeClassifier()"
   ]
  },
  {
   "cell_type": "code",
   "execution_count": 29,
   "id": "29c95fd3",
   "metadata": {},
   "outputs": [
    {
     "data": {
      "text/plain": [
       "DecisionTreeClassifier()"
      ]
     },
     "execution_count": 29,
     "metadata": {},
     "output_type": "execute_result"
    }
   ],
   "source": [
    "model.fit(x_train, y_train)"
   ]
  },
  {
   "cell_type": "code",
   "execution_count": 30,
   "id": "19122244",
   "metadata": {},
   "outputs": [
    {
     "name": "stdout",
     "output_type": "stream",
     "text": [
      "Accuracy:  100.0\n"
     ]
    }
   ],
   "source": [
    "print(\"Accuracy: \",model.score(x_test, y_test) * 100)"
   ]
  },
  {
   "cell_type": "markdown",
   "id": "c7c1dee4",
   "metadata": {},
   "source": [
    "\n",
    "ROC curver"
   ]
  },
  {
   "cell_type": "code",
   "execution_count": 31,
   "id": "e9cdfaba",
   "metadata": {},
   "outputs": [],
   "source": [
    "from sklearn.pipeline import Pipeline"
   ]
  },
  {
   "cell_type": "code",
   "execution_count": 32,
   "id": "6aede8a9",
   "metadata": {},
   "outputs": [
    {
     "data": {
      "text/plain": [
       "Pipeline(steps=[('lr_model', DecisionTreeClassifier())])"
      ]
     },
     "execution_count": 32,
     "metadata": {},
     "output_type": "execute_result"
    }
   ],
   "source": [
    "text_clf=Pipeline([('lr_model',DecisionTreeClassifier())])\n",
    "text_clf.fit(x_train,y_train)"
   ]
  },
  {
   "cell_type": "code",
   "execution_count": 33,
   "id": "2e8dc141",
   "metadata": {},
   "outputs": [],
   "source": [
    "predictions=text_clf.predict(x_test)"
   ]
  },
  {
   "cell_type": "code",
   "execution_count": 34,
   "id": "b1ebadf5",
   "metadata": {},
   "outputs": [
    {
     "name": "stdout",
     "output_type": "stream",
     "text": [
      "              precision    recall  f1-score   support\n",
      "\n",
      "           0       1.00      1.00      1.00        98\n",
      "           1       1.00      1.00      1.00       134\n",
      "\n",
      "    accuracy                           1.00       232\n",
      "   macro avg       1.00      1.00      1.00       232\n",
      "weighted avg       1.00      1.00      1.00       232\n",
      "\n"
     ]
    }
   ],
   "source": [
    "from sklearn import metrics\n",
    "print(metrics.classification_report(y_test,predictions))"
   ]
  },
  {
   "cell_type": "code",
   "execution_count": 35,
   "id": "19474d17",
   "metadata": {},
   "outputs": [],
   "source": [
    "from sklearn.metrics import roc_curve, auc\n",
    "from sklearn.metrics import roc_curve\n",
    "from sklearn.metrics import roc_auc_score"
   ]
  },
  {
   "cell_type": "code",
   "execution_count": 36,
   "id": "a91dbf9e",
   "metadata": {},
   "outputs": [],
   "source": [
    "fpr, tpr, thresholds = roc_curve(y_test, predictions)"
   ]
  },
  {
   "cell_type": "code",
   "execution_count": 37,
   "id": "d6baa02a",
   "metadata": {},
   "outputs": [
    {
     "name": "stdout",
     "output_type": "stream",
     "text": [
      "AUC: 1.000\n"
     ]
    }
   ],
   "source": [
    "\n",
    "auc = roc_auc_score(y_test, predictions)\n",
    "print('AUC: %.3f' % auc)"
   ]
  },
  {
   "cell_type": "code",
   "execution_count": 38,
   "id": "473bc8a8",
   "metadata": {},
   "outputs": [],
   "source": [
    "lr_probs = model.predict_proba(x_test)\n",
    "lr_probs = lr_probs[:, 1]"
   ]
  },
  {
   "cell_type": "code",
   "execution_count": 39,
   "id": "22a527ea",
   "metadata": {},
   "outputs": [],
   "source": [
    "lr_fpr, lr_tpr, _ = roc_curve(y_test, lr_probs)"
   ]
  },
  {
   "cell_type": "code",
   "execution_count": 40,
   "id": "0ec7f202",
   "metadata": {},
   "outputs": [
    {
     "data": {
      "image/png": "[encoded data removed]",
      "text/plain": [
       "<Figure size 432x288 with 1 Axes>"
      ]
     },
     "metadata": {
      "needs_background": "light"
     },
     "output_type": "display_data"
    }
   ],
   "source": [
    "from matplotlib import pyplot\n",
    "pyplot.plot(lr_fpr, lr_tpr, marker='.', label='Logistic')\n",
    "pyplot.xlabel('False Positive Rate')\n",
    "pyplot.ylabel('True Positive Rate')\n",
    "# show the legend\n",
    "pyplot.legend()\n",
    "# show the plot\n",
    "pyplot.show()"
   ]
  },
  {
   "cell_type": "code",
   "execution_count": null,
   "id": "2087a803",
   "metadata": {},
   "outputs": [],
   "source": []
  },
  {
   "cell_type": "code",
   "execution_count": null,
   "id": "4456dc1a",
   "metadata": {},
   "outputs": [],
   "source": []
  }
 ],
 "metadata": {
  "kernelspec": {
   "display_name": "Python 3",
   "language": "python",
   "name": "python3"
  },
  "language_info": {
   "codemirror_mode": {
    "name": "ipython",
    "version": 3
   },
   "file_extension": ".py",
   "mimetype": "text/x-python",
   "name": "python",
   "nbconvert_exporter": "python",
   "pygments_lexer": "ipython3",
   "version": "3.9.4"
  }
 },
 "nbformat": 4,
 "nbformat_minor": 5
}
